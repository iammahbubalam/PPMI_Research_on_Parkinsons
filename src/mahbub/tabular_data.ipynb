{
 "cells": [
  {
   "cell_type": "code",
   "outputs": [
    {
     "name": "stdout",
     "output_type": "stream",
     "text": [
      "Extracted data saved to: B:\\Projects\\PycharmProjects\\PPMI_Research_on_Parkinson's\\src\\mahbub\\motor_data\\MDS-UPDRS_Part_IV__Motor_Complications.csv\n"
     ]
    }
   ],
   "source": [
    "import pandas as pd\n",
    "\n",
    "# File paths\n",
    "file_path_main = r\"B:\\Projects\\PycharmProjects\\PPMI_Research_on_Parkinson's\\src\\sadi\\NecessaryCSVFiles\\MDS-UPDRS_Part_IV__Motor_Complications_04Apr2024.csv\"\n",
    "file_path_reff = r\"B:\\Projects\\PycharmProjects\\PPMI_Research_on_Parkinson's\\src\\mahbub\\sorted_dataset\\four_visit_feature_37-39.csv\"\n",
    "output_file_path = r\"B:\\Projects\\PycharmProjects\\PPMI_Research_on_Parkinson's\\src\\mahbub\\motor_data\\MDS-UPDRS_Part_IV__Motor_Complications.csv\"\n",
    "\n",
    "# Read the CSV files into DataFrames\n",
    "df_main = pd.read_csv(file_path_main)\n",
    "df_reff = pd.read_csv(file_path_reff)\n",
    "\n",
    "# Extract the 'Patient ID' column from df_reff\n",
    "patient_ids = df_reff['Patient ID'].unique()\n",
    "\n",
    "# Filter rows in df_main that match the Patient IDs in patient_ids\n",
    "filtered_df_main = df_main[df_main['PATNO'].isin(patient_ids)]\n",
    "\n",
    "# Specify columns to extract\n",
    "columns_to_extract = ['PATNO', 'INFODT', 'NP4DYSKI', 'NP4DYSTN', 'NP4FLCTI', 'NP4FLCTX', 'NP4OFF', 'NP4WDYSK', 'ORIG_ENTRY', 'NP4TOT']\n",
    "\n",
    "# Create a new DataFrame with only the specified columns\n",
    "extracted_data = filtered_df_main[columns_to_extract]\n",
    "\n",
    "# Save extracted data to CSV\n",
    "extracted_data.to_csv(output_file_path, index=False)\n",
    "\n",
    "print(f\"Extracted data saved to: {output_file_path}\")\n",
    "\n",
    "\n"
   ],
   "metadata": {
    "collapsed": false,
    "ExecuteTime": {
     "end_time": "2024-07-03T22:47:26.435026Z",
     "start_time": "2024-07-03T22:47:26.396024Z"
    }
   },
   "id": "96c8c8c3a1d0c6f7",
   "execution_count": 10
  },
  {
   "cell_type": "code",
   "outputs": [
    {
     "data": {
      "text/plain": "         REC_ID   PATNO EVENT_ID PAG_NAME   INFODT  NP4WDYSK  NP4WDYSKDEN  \\\n37     IA156310    3010      R17  NUPDRS4  12/2021         0          0.0   \n38     IA202205    3010      R18  NUPDRS4  11/2022         0          0.0   \n39     IA384333    3010      R19  NUPDRS4  12/2023         0          0.0   \n40    489198301    3010      V09  NUPDRS4  12/2014         0          NaN   \n41    528066301    3010      V10  NUPDRS4  06/2015         2          NaN   \n...         ...     ...      ...      ...      ...       ...          ...   \n8060   IA447698  137450      V06  NUPDRS4  03/2024         0          0.0   \n8096   IA202346  142004      V02  NUPDRS4  11/2022         0          0.0   \n8097   IA252656  142004      V04  NUPDRS4  04/2023         0          0.0   \n8098   IA373044  142004      V05  NUPDRS4  11/2023         0          0.0   \n8099   IA444598  142004      V06  NUPDRS4  03/2024         0          0.0   \n\n      NP4WDYSKNUM  NP4WDYSKPCT  NP4DYSKI  ...  NP4OFFPCT  NP4FLCTI  NP4FLCTX  \\\n37           20.0          0.0         0  ...       30.0       4.0       2.0   \n38           20.0          0.0         0  ...       30.0       4.0       1.0   \n39           18.0          0.0         0  ...       33.0       4.0       1.0   \n40            NaN          NaN         0  ...        NaN       0.0       0.0   \n41            NaN          NaN         1  ...        NaN       1.0       1.0   \n...           ...          ...       ...  ...        ...       ...       ...   \n8060         15.0          0.0         0  ...        0.0       0.0       0.0   \n8096         16.0          0.0         0  ...        0.0       0.0       0.0   \n8097         16.0          0.0         0  ...        0.0       0.0       0.0   \n8098         16.0          0.0         0  ...        0.0       0.0       0.0   \n8099         16.0          0.0         0  ...       13.0       1.0       1.0   \n\n      NP4DYSTN  NP4DYSTNDEN  NP4DYSTNNUM  NP4DYSTNPCT  NP4TOT  ORIG_ENTRY  \\\n37         1.0          1.0          6.0         17.0     9.0     12/2021   \n38         1.0          1.0          6.0         17.0     8.0     11/2022   \n39         2.0          3.0          6.0         50.0     9.0     12/2023   \n40         0.0          NaN          NaN          NaN     0.0     12/2014   \n41         1.0          NaN          NaN          NaN     7.0     07/2015   \n...        ...          ...          ...          ...     ...         ...   \n8060       0.0          0.0          0.0          NaN     0.0     03/2024   \n8096       0.0          0.0          0.0          NaN     0.0     11/2022   \n8097       0.0          0.0          0.0          NaN     0.0     04/2023   \n8098       0.0          0.0          0.0          NaN     0.0     11/2023   \n8099       0.0          0.0          2.0          0.0     3.0     03/2024   \n\n                LAST_UPDATE  \n37    2021-12-02 00:00:00.0  \n38    2022-11-11 00:00:00.0  \n39    2023-12-11 00:00:00.0  \n40    2020-06-30 09:25:46.0  \n41    2020-06-30 09:25:52.0  \n...                     ...  \n8060  2024-03-19 00:00:00.0  \n8096  2022-11-12 00:00:00.0  \n8097  2023-04-05 00:00:00.0  \n8098  2023-11-21 00:00:00.0  \n8099  2024-03-14 00:00:00.0  \n\n[2779 rows x 23 columns]",
      "text/html": "<div>\n<style scoped>\n    .dataframe tbody tr th:only-of-type {\n        vertical-align: middle;\n    }\n\n    .dataframe tbody tr th {\n        vertical-align: top;\n    }\n\n    .dataframe thead th {\n        text-align: right;\n    }\n</style>\n<table border=\"1\" class=\"dataframe\">\n  <thead>\n    <tr style=\"text-align: right;\">\n      <th></th>\n      <th>REC_ID</th>\n      <th>PATNO</th>\n      <th>EVENT_ID</th>\n      <th>PAG_NAME</th>\n      <th>INFODT</th>\n      <th>NP4WDYSK</th>\n      <th>NP4WDYSKDEN</th>\n      <th>NP4WDYSKNUM</th>\n      <th>NP4WDYSKPCT</th>\n      <th>NP4DYSKI</th>\n      <th>...</th>\n      <th>NP4OFFPCT</th>\n      <th>NP4FLCTI</th>\n      <th>NP4FLCTX</th>\n      <th>NP4DYSTN</th>\n      <th>NP4DYSTNDEN</th>\n      <th>NP4DYSTNNUM</th>\n      <th>NP4DYSTNPCT</th>\n      <th>NP4TOT</th>\n      <th>ORIG_ENTRY</th>\n      <th>LAST_UPDATE</th>\n    </tr>\n  </thead>\n  <tbody>\n    <tr>\n      <th>37</th>\n      <td>IA156310</td>\n      <td>3010</td>\n      <td>R17</td>\n      <td>NUPDRS4</td>\n      <td>12/2021</td>\n      <td>0</td>\n      <td>0.0</td>\n      <td>20.0</td>\n      <td>0.0</td>\n      <td>0</td>\n      <td>...</td>\n      <td>30.0</td>\n      <td>4.0</td>\n      <td>2.0</td>\n      <td>1.0</td>\n      <td>1.0</td>\n      <td>6.0</td>\n      <td>17.0</td>\n      <td>9.0</td>\n      <td>12/2021</td>\n      <td>2021-12-02 00:00:00.0</td>\n    </tr>\n    <tr>\n      <th>38</th>\n      <td>IA202205</td>\n      <td>3010</td>\n      <td>R18</td>\n      <td>NUPDRS4</td>\n      <td>11/2022</td>\n      <td>0</td>\n      <td>0.0</td>\n      <td>20.0</td>\n      <td>0.0</td>\n      <td>0</td>\n      <td>...</td>\n      <td>30.0</td>\n      <td>4.0</td>\n      <td>1.0</td>\n      <td>1.0</td>\n      <td>1.0</td>\n      <td>6.0</td>\n      <td>17.0</td>\n      <td>8.0</td>\n      <td>11/2022</td>\n      <td>2022-11-11 00:00:00.0</td>\n    </tr>\n    <tr>\n      <th>39</th>\n      <td>IA384333</td>\n      <td>3010</td>\n      <td>R19</td>\n      <td>NUPDRS4</td>\n      <td>12/2023</td>\n      <td>0</td>\n      <td>0.0</td>\n      <td>18.0</td>\n      <td>0.0</td>\n      <td>0</td>\n      <td>...</td>\n      <td>33.0</td>\n      <td>4.0</td>\n      <td>1.0</td>\n      <td>2.0</td>\n      <td>3.0</td>\n      <td>6.0</td>\n      <td>50.0</td>\n      <td>9.0</td>\n      <td>12/2023</td>\n      <td>2023-12-11 00:00:00.0</td>\n    </tr>\n    <tr>\n      <th>40</th>\n      <td>489198301</td>\n      <td>3010</td>\n      <td>V09</td>\n      <td>NUPDRS4</td>\n      <td>12/2014</td>\n      <td>0</td>\n      <td>NaN</td>\n      <td>NaN</td>\n      <td>NaN</td>\n      <td>0</td>\n      <td>...</td>\n      <td>NaN</td>\n      <td>0.0</td>\n      <td>0.0</td>\n      <td>0.0</td>\n      <td>NaN</td>\n      <td>NaN</td>\n      <td>NaN</td>\n      <td>0.0</td>\n      <td>12/2014</td>\n      <td>2020-06-30 09:25:46.0</td>\n    </tr>\n    <tr>\n      <th>41</th>\n      <td>528066301</td>\n      <td>3010</td>\n      <td>V10</td>\n      <td>NUPDRS4</td>\n      <td>06/2015</td>\n      <td>2</td>\n      <td>NaN</td>\n      <td>NaN</td>\n      <td>NaN</td>\n      <td>1</td>\n      <td>...</td>\n      <td>NaN</td>\n      <td>1.0</td>\n      <td>1.0</td>\n      <td>1.0</td>\n      <td>NaN</td>\n      <td>NaN</td>\n      <td>NaN</td>\n      <td>7.0</td>\n      <td>07/2015</td>\n      <td>2020-06-30 09:25:52.0</td>\n    </tr>\n    <tr>\n      <th>...</th>\n      <td>...</td>\n      <td>...</td>\n      <td>...</td>\n      <td>...</td>\n      <td>...</td>\n      <td>...</td>\n      <td>...</td>\n      <td>...</td>\n      <td>...</td>\n      <td>...</td>\n      <td>...</td>\n      <td>...</td>\n      <td>...</td>\n      <td>...</td>\n      <td>...</td>\n      <td>...</td>\n      <td>...</td>\n      <td>...</td>\n      <td>...</td>\n      <td>...</td>\n      <td>...</td>\n    </tr>\n    <tr>\n      <th>8060</th>\n      <td>IA447698</td>\n      <td>137450</td>\n      <td>V06</td>\n      <td>NUPDRS4</td>\n      <td>03/2024</td>\n      <td>0</td>\n      <td>0.0</td>\n      <td>15.0</td>\n      <td>0.0</td>\n      <td>0</td>\n      <td>...</td>\n      <td>0.0</td>\n      <td>0.0</td>\n      <td>0.0</td>\n      <td>0.0</td>\n      <td>0.0</td>\n      <td>0.0</td>\n      <td>NaN</td>\n      <td>0.0</td>\n      <td>03/2024</td>\n      <td>2024-03-19 00:00:00.0</td>\n    </tr>\n    <tr>\n      <th>8096</th>\n      <td>IA202346</td>\n      <td>142004</td>\n      <td>V02</td>\n      <td>NUPDRS4</td>\n      <td>11/2022</td>\n      <td>0</td>\n      <td>0.0</td>\n      <td>16.0</td>\n      <td>0.0</td>\n      <td>0</td>\n      <td>...</td>\n      <td>0.0</td>\n      <td>0.0</td>\n      <td>0.0</td>\n      <td>0.0</td>\n      <td>0.0</td>\n      <td>0.0</td>\n      <td>NaN</td>\n      <td>0.0</td>\n      <td>11/2022</td>\n      <td>2022-11-12 00:00:00.0</td>\n    </tr>\n    <tr>\n      <th>8097</th>\n      <td>IA252656</td>\n      <td>142004</td>\n      <td>V04</td>\n      <td>NUPDRS4</td>\n      <td>04/2023</td>\n      <td>0</td>\n      <td>0.0</td>\n      <td>16.0</td>\n      <td>0.0</td>\n      <td>0</td>\n      <td>...</td>\n      <td>0.0</td>\n      <td>0.0</td>\n      <td>0.0</td>\n      <td>0.0</td>\n      <td>0.0</td>\n      <td>0.0</td>\n      <td>NaN</td>\n      <td>0.0</td>\n      <td>04/2023</td>\n      <td>2023-04-05 00:00:00.0</td>\n    </tr>\n    <tr>\n      <th>8098</th>\n      <td>IA373044</td>\n      <td>142004</td>\n      <td>V05</td>\n      <td>NUPDRS4</td>\n      <td>11/2023</td>\n      <td>0</td>\n      <td>0.0</td>\n      <td>16.0</td>\n      <td>0.0</td>\n      <td>0</td>\n      <td>...</td>\n      <td>0.0</td>\n      <td>0.0</td>\n      <td>0.0</td>\n      <td>0.0</td>\n      <td>0.0</td>\n      <td>0.0</td>\n      <td>NaN</td>\n      <td>0.0</td>\n      <td>11/2023</td>\n      <td>2023-11-21 00:00:00.0</td>\n    </tr>\n    <tr>\n      <th>8099</th>\n      <td>IA444598</td>\n      <td>142004</td>\n      <td>V06</td>\n      <td>NUPDRS4</td>\n      <td>03/2024</td>\n      <td>0</td>\n      <td>0.0</td>\n      <td>16.0</td>\n      <td>0.0</td>\n      <td>0</td>\n      <td>...</td>\n      <td>13.0</td>\n      <td>1.0</td>\n      <td>1.0</td>\n      <td>0.0</td>\n      <td>0.0</td>\n      <td>2.0</td>\n      <td>0.0</td>\n      <td>3.0</td>\n      <td>03/2024</td>\n      <td>2024-03-14 00:00:00.0</td>\n    </tr>\n  </tbody>\n</table>\n<p>2779 rows × 23 columns</p>\n</div>"
     },
     "execution_count": 9,
     "metadata": {},
     "output_type": "execute_result"
    }
   ],
   "source": [
    "filtered_df_main"
   ],
   "metadata": {
    "collapsed": false,
    "ExecuteTime": {
     "end_time": "2024-07-03T22:39:43.015361Z",
     "start_time": "2024-07-03T22:39:42.998927Z"
    }
   },
   "id": "7228838b9f65a13b",
   "execution_count": 9
  },
  {
   "cell_type": "code",
   "outputs": [
    {
     "name": "stdout",
     "output_type": "stream",
     "text": [
      "Extracted data saved to: B:\\Projects\\PycharmProjects\\PPMI_Research_on_Parkinson's\\src\\mahbub\\motor_data\\MDS-MDS-UPDRS_Part_I.csv\n"
     ]
    }
   ],
   "source": [
    "import pandas as pd\n",
    "\n",
    "# File paths\n",
    "file_path_main = r\"B:\\Projects\\PycharmProjects\\PPMI_Research_on_Parkinson's\\src\\sadi\\NecessaryCSVFiles\\MDS-UPDRS_Part_I_04Apr2024.csv\"\n",
    "file_path_reff = r\"B:\\Projects\\PycharmProjects\\PPMI_Research_on_Parkinson's\\src\\mahbub\\sorted_dataset\\four_visit_feature_37-39.csv\"\n",
    "output_file_path = r\"B:\\Projects\\PycharmProjects\\PPMI_Research_on_Parkinson's\\src\\mahbub\\motor_data\\MDS-MDS-UPDRS_Part_I.csv\"\n",
    "\n",
    "# Read the CSV files into DataFrames\n",
    "df_main = pd.read_csv(file_path_main)\n",
    "df_reff = pd.read_csv(file_path_reff)\n",
    "\n",
    "# Extract the 'Patient ID' column from df_reff\n",
    "patient_ids = df_reff['Patient ID'].unique()\n",
    "\n",
    "# Filter rows in df_main that match the Patient IDs in patient_ids\n",
    "filtered_df_main = df_main[df_main['PATNO'].isin(patient_ids)]\n",
    "\n",
    "# Specify columns to extract\n",
    "columns_to_extract = ['PATNO', 'INFODT', 'NP1ANXS', 'NP1APAT', 'NP1COG', 'NP1DDS', 'NP1DPRS', 'NP1HALL', 'ORIG_ENTRY', 'NP1RTOT']\n",
    "\n",
    "# Create a new DataFrame with only the specified columns\n",
    "extracted_data = filtered_df_main[columns_to_extract]\n",
    "\n",
    "# Save extracted data to CSV\n",
    "extracted_data.to_csv(output_file_path, index=False)\n",
    "\n",
    "print(f\"Extracted data saved to: {output_file_path}\")"
   ],
   "metadata": {
    "collapsed": false,
    "ExecuteTime": {
     "end_time": "2024-07-03T22:56:05.837404Z",
     "start_time": "2024-07-03T22:56:05.756801Z"
    }
   },
   "id": "bfe7366760884225",
   "execution_count": 12
  },
  {
   "cell_type": "code",
   "outputs": [
    {
     "name": "stdout",
     "output_type": "stream",
     "text": [
      "Extracted data saved to: B:\\Projects\\PycharmProjects\\PPMI_Research_on_Parkinson's\\src\\mahbub\\motor_data\\MDS-UPDRS_Part_I_Patient_Questionnaire.csv\n"
     ]
    }
   ],
   "source": [
    "import pandas as pd\n",
    "\n",
    "# File paths\n",
    "file_path_main = r\"B:\\Projects\\PycharmProjects\\PPMI_Research_on_Parkinson's\\src\\sadi\\NecessaryCSVFiles\\MDS-UPDRS_Part_I_Patient_Questionnaire_04Apr2024.csv\"\n",
    "file_path_reff = r\"B:\\Projects\\PycharmProjects\\PPMI_Research_on_Parkinson's\\src\\mahbub\\sorted_dataset\\four_visit_feature_37-39.csv\"\n",
    "output_file_path = r\"B:\\Projects\\PycharmProjects\\PPMI_Research_on_Parkinson's\\src\\mahbub\\motor_data\\MDS-UPDRS_Part_I_Patient_Questionnaire.csv\"\n",
    "\n",
    "# Read the CSV files into DataFrames\n",
    "df_main = pd.read_csv(file_path_main)\n",
    "df_reff = pd.read_csv(file_path_reff)\n",
    "\n",
    "# Extract the 'Patient ID' column from df_reff\n",
    "patient_ids = df_reff['Patient ID'].unique()\n",
    "\n",
    "# Filter rows in df_main that match the Patient IDs in patient_ids\n",
    "filtered_df_main = df_main[df_main['PATNO'].isin(patient_ids)]\n",
    "\n",
    "# Specify columns to extract\n",
    "columns_to_extract = ['PATNO', 'INFODT', 'NP1CNST', 'NP1FATG', 'NP1LTHD', 'NP1PAIN', 'NP1SLPD', 'NP1SLPN','NP1URIN', 'ORIG_ENTRY', 'NP1PTOT']\n",
    "\n",
    "# Create a new DataFrame with only the specified columns\n",
    "extracted_data = filtered_df_main[columns_to_extract]\n",
    "\n",
    "# Save extracted data to CSV\n",
    "extracted_data.to_csv(output_file_path, index=False)\n",
    "\n",
    "print(f\"Extracted data saved to: {output_file_path}\")"
   ],
   "metadata": {
    "collapsed": false,
    "ExecuteTime": {
     "end_time": "2024-07-03T23:03:05.311984Z",
     "start_time": "2024-07-03T23:03:05.249155Z"
    }
   },
   "id": "d2f99dacfb993cb7",
   "execution_count": 13
  },
  {
   "cell_type": "code",
   "outputs": [
    {
     "name": "stdout",
     "output_type": "stream",
     "text": [
      "Extracted data saved to: B:\\Projects\\PycharmProjects\\PPMI_Research_on_Parkinson's\\src\\mahbub\\motor_data\\MDS_UPDRS_Part_II__Patient_Questionnaire.csv\n"
     ]
    }
   ],
   "source": [
    "import pandas as pd\n",
    "\n",
    "# File paths\n",
    "file_path_main = r\"B:\\Projects\\PycharmProjects\\PPMI_Research_on_Parkinson's\\src\\sadi\\NecessaryCSVFiles\\MDS_UPDRS_Part_II__Patient_Questionnaire_04Apr2024.csv\"\n",
    "file_path_reff = r\"B:\\Projects\\PycharmProjects\\PPMI_Research_on_Parkinson's\\src\\mahbub\\sorted_dataset\\four_visit_feature_37-39.csv\"\n",
    "output_file_path = r\"B:\\Projects\\PycharmProjects\\PPMI_Research_on_Parkinson's\\src\\mahbub\\motor_data\\MDS_UPDRS_Part_II__Patient_Questionnaire.csv\"\n",
    "\n",
    "# Read the CSV files into DataFrames\n",
    "df_main = pd.read_csv(file_path_main)\n",
    "df_reff = pd.read_csv(file_path_reff)\n",
    "\n",
    "# Extract the 'Patient ID' column from df_reff\n",
    "patient_ids = df_reff['Patient ID'].unique()\n",
    "\n",
    "# Filter rows in df_main that match the Patient IDs in patient_ids\n",
    "filtered_df_main = df_main[df_main['PATNO'].isin(patient_ids)]\n",
    "\n",
    "# Specify columns to extract\n",
    "columns_to_extract = ['PATNO', 'INFODT', 'NP2DRES', 'NP2EAT', 'NP2FREZ', 'NP2HOBB', 'NP2HWRT', 'NP2HYGN','NP2RISE','NP2SALV','NP2SPCH','NP2SWAL','NP2TRMR','NP2TURN','NP2WALK', 'ORIG_ENTRY', 'NP2PTOT']\n",
    "\n",
    "# Create a new DataFrame with only the specified columns\n",
    "extracted_data = filtered_df_main[columns_to_extract]\n",
    "\n",
    "# Save extracted data to CSV\n",
    "extracted_data.to_csv(output_file_path, index=False)\n",
    "\n",
    "print(f\"Extracted data saved to: {output_file_path}\")"
   ],
   "metadata": {
    "collapsed": false,
    "ExecuteTime": {
     "end_time": "2024-07-03T23:10:57.424103Z",
     "start_time": "2024-07-03T23:10:57.351452Z"
    }
   },
   "id": "c61d2144a5e5f3ca",
   "execution_count": 15
  },
  {
   "cell_type": "code",
   "outputs": [
    {
     "name": "stdout",
     "output_type": "stream",
     "text": [
      "Extracted data saved to: B:\\Projects\\PycharmProjects\\PPMI_Research_on_Parkinson's\\src\\mahbub\\motor_data\\MDS-UPDRS_Part_III.csv\n"
     ]
    }
   ],
   "source": [
    "import pandas as pd\n",
    "\n",
    "# File paths\n",
    "file_path_main = r\"B:\\Projects\\PycharmProjects\\PPMI_Research_on_Parkinson's\\src\\sadi\\NecessaryCSVFiles\\DaTScan_SBR_Analysis_04Apr2024(1).csv\"\n",
    "file_path_reff = r\"B:\\Projects\\PycharmProjects\\PPMI_Research_on_Parkinson's\\src\\mahbub\\sorted_dataset\\four_visit_feature_37-39.csv\"\n",
    "output_file_path = r\"B:\\Projects\\PycharmProjects\\PPMI_Research_on_Parkinson's\\src\\mahbub\\motor_data\\MDS-UPDRS_Part_III.csv\"\n",
    "\n",
    "# Read the CSV files into DataFrames\n",
    "df_main = pd.read_csv(file_path_main)\n",
    "df_reff = pd.read_csv(file_path_reff)\n",
    "\n",
    "# Extract the 'Patient ID' column from df_reff\n",
    "patient_ids = df_reff['Patient ID'].unique()\n",
    "\n",
    "# Filter rows in df_main that match the Patient IDs in patient_ids\n",
    "filtered_df_main = df_main[df_main['PATNO'].isin(patient_ids)]\n",
    "\n",
    "# Specify columns to extract\n",
    "columns_to_extract = ['PATNO', 'INFODT', 'NP3BRADY', 'NP3FACXP', 'NP3FRZGT', 'NP3FTAPL', 'NP3FTAPR', 'NP3GAIT','NP3HMOVL','NP3HMOVR','NP3KTRML','NP3KTRMR','NP3LGAGL','NP3LGAGR','NP3POSTR','NP3PRSPL','NP3PRSPR','NP3PSTBL','NP3PTRML','NP3PTRMR','NP3RIGLL','NP3RIGLU','NP3RIGN','NP3RIGRL','NP3RIGRU','NP3RISNG','NP3RTALJ','NP3RTALL','NP3RTALU','NP3RTARL','NP3RTARU','NP3RTCON','NP3SPCH','NP3TTAPL','NP3TTAPR','NHY', 'ORIG_ENTRY', 'NP3TOT']\n",
    "\n",
    "# Create a new DataFrame with only the specified columns\n",
    "extracted_data = filtered_df_main[columns_to_extract]\n",
    "\n",
    "# Save extracted data to CSV\n",
    "extracted_data.to_csv(output_file_path, index=False)\n",
    "\n",
    "print(f\"Extracted data saved to: {output_file_path}\")"
   ],
   "metadata": {
    "collapsed": false,
    "ExecuteTime": {
     "end_time": "2024-07-03T23:36:22.244201Z",
     "start_time": "2024-07-03T23:36:22.076406Z"
    }
   },
   "id": "851399fb5b946376",
   "execution_count": 16
  },
  {
   "cell_type": "code",
   "outputs": [
    {
     "name": "stdout",
     "output_type": "stream",
     "text": [
      "Extracted data saved to: B:\\Projects\\PycharmProjects\\PPMI_Research_on_Parkinson's\\src\\mahbub\\motor_data\\DaTscan_Imaging.csv\n"
     ]
    }
   ],
   "source": [
    "import pandas as pd\n",
    "\n",
    "# File paths\n",
    "file_path_main = r\"B:\\Projects\\PycharmProjects\\PPMI_Research_on_Parkinson's\\src\\sadi\\NecessaryCSVFiles\\DaTScan_SBR_Analysis_04Apr2024(1).csv\"\n",
    "file_path_reff = r\"B:\\Projects\\PycharmProjects\\PPMI_Research_on_Parkinson's\\src\\mahbub\\sorted_dataset\\four_visit_feature_37-39.csv\"\n",
    "output_file_path = r\"B:\\Projects\\PycharmProjects\\PPMI_Research_on_Parkinson's\\src\\mahbub\\motor_data\\DaTscan_Imaging.csv\"\n",
    "\n",
    "# Read the CSV files into DataFrames\n",
    "df_main = pd.read_csv(file_path_main)\n",
    "df_reff = pd.read_csv(file_path_reff)\n",
    "\n",
    "# Extract the 'Patient ID' column from df_reff\n",
    "patient_ids = df_reff['Patient ID'].unique()\n",
    "\n",
    "# Filter rows in df_main that match the Patient IDs in patient_ids\n",
    "filtered_df_main = df_main[df_main['PATNO'].isin(patient_ids)]\n",
    "\n",
    "\n",
    "# Specify columns to extract\n",
    "columns_to_extract = [\"PATNO\", \"DATSCAN_DATE\", \"DATSCAN_CAUDATE_R\",\"DATSCAN_CAUDATE_L\",\"DATSCAN_PUTAMEN_R\",\"DATSCAN_PUTAMEN_L\",\"DATSCAN_PUTAMEN_R_ANT\",\"DATSCAN_PUTAMEN_L_ANT\"]\n",
    "\n",
    "# Create a new DataFrame with only the specified columns\n",
    "extracted_data = filtered_df_main[columns_to_extract]\n",
    "\n",
    "# Save extracted data to CSV\n",
    "extracted_data.to_csv(output_file_path, index=False)\n",
    "\n",
    "print(f\"Extracted data saved to: {output_file_path}\")"
   ],
   "metadata": {
    "collapsed": false,
    "ExecuteTime": {
     "end_time": "2024-07-03T23:44:02.695328Z",
     "start_time": "2024-07-03T23:44:02.674365Z"
    }
   },
   "id": "9ce4ac9eafdf82cb",
   "execution_count": 27
  },
  {
   "cell_type": "code",
   "outputs": [
    {
     "name": "stdout",
     "output_type": "stream",
     "text": [
      "Sorted data saved to: B:\\Projects\\PycharmProjects\\PPMI_Research_on_Parkinson's\\src\\mahbub\\motor_data\\DaTscan_Imaging.csv\n"
     ]
    },
    {
     "name": "stderr",
     "output_type": "stream",
     "text": [
      "C:\\Users\\bubha\\AppData\\Local\\Temp\\ipykernel_20068\\3365589802.py:10: UserWarning: Could not infer format, so each element will be parsed individually, falling back to `dateutil`. To ensure parsing is consistent and as-expected, please specify a format.\n",
      "  df['DATSCAN_DATE'] = pd.to_datetime(df['DATSCAN_DATE'], errors='coerce')\n"
     ]
    }
   ],
   "source": [
    "import pandas as pd\n",
    "\n",
    "# Define the file path\n",
    "file_path = r\"B:\\Projects\\PycharmProjects\\PPMI_Research_on_Parkinson's\\src\\mahbub\\motor_data\\DaTscan_Imaging.csv\"\n",
    "\n",
    "# Read the CSV file into a DataFrame\n",
    "df = pd.read_csv(file_path)\n",
    "\n",
    "# Convert 'INFODT' to datetime format if it is not already\n",
    "df['DATSCAN_DATE'] = pd.to_datetime(df['DATSCAN_DATE'], errors='coerce')\n",
    "\n",
    "# Sort the DataFrame by 'PATNO' and 'INFODT' in ascending order\n",
    "df_sorted = df.sort_values(by=['PATNO', 'DATSCAN_DATE'])\n",
    "\n",
    "# Save the sorted DataFrame back to the same file\n",
    "df_sorted.to_csv(file_path, index=False)\n",
    "\n",
    "print(f\"Sorted data saved to: {file_path}\")\n"
   ],
   "metadata": {
    "collapsed": false,
    "ExecuteTime": {
     "end_time": "2024-07-04T14:21:22.123939Z",
     "start_time": "2024-07-04T14:21:22.110762Z"
    }
   },
   "id": "339208274bc27830",
   "execution_count": 7
  },
  {
   "cell_type": "code",
   "outputs": [
    {
     "name": "stdout",
     "output_type": "stream",
     "text": [
      "Column renamed and data saved to: B:\\Projects\\PycharmProjects\\PPMI_Research_on_Parkinson's\\src\\mahbub\\motor_data\\DaTscan_Imaging.csv\n"
     ]
    }
   ],
   "source": [
    "import pandas as pd\n",
    "\n",
    "# Define the file path\n",
    "file_path = r\"B:\\Projects\\PycharmProjects\\PPMI_Research_on_Parkinson's\\src\\mahbub\\motor_data\\DaTscan_Imaging.csv\"\n",
    "\n",
    "# Read the CSV file into a DataFrame\n",
    "df = pd.read_csv(file_path)\n",
    "\n",
    "# Rename the column 'DATSCAN_DATE' to 'INFODT'\n",
    "df.rename(columns={'DATSCAN_DATE': 'INFODT'}, inplace=True)\n",
    "\n",
    "# Save the updated DataFrame back to the same file\n",
    "df.to_csv(file_path, index=False)\n",
    "\n",
    "print(f\"Column renamed and data saved to: {file_path}\")\n"
   ],
   "metadata": {
    "collapsed": false,
    "ExecuteTime": {
     "end_time": "2024-07-04T14:23:08.077798Z",
     "start_time": "2024-07-04T14:23:08.066330Z"
    }
   },
   "id": "7305d43a995855c3",
   "execution_count": 8
  },
  {
   "cell_type": "code",
   "outputs": [
    {
     "name": "stdout",
     "output_type": "stream",
     "text": [
      "All files have been cleaned and saved.\n"
     ]
    }
   ],
   "source": [
    "import pandas as pd\n",
    "import numpy as np\n",
    "\n",
    "# Define the file paths\n",
    "file_paths = [\n",
    "    r\"B:\\Projects\\PycharmProjects\\PPMI_Research_on_Parkinson's\\src\\mahbub\\motor_data\\MDS-MDS-UPDRS_Part_I.csv\",\n",
    "    r\"B:\\Projects\\PycharmProjects\\PPMI_Research_on_Parkinson's\\src\\mahbub\\motor_data\\MDS-UPDRS_Part_I_Patient_Questionnaire.csv\",\n",
    "    r\"B:\\Projects\\PycharmProjects\\PPMI_Research_on_Parkinson's\\src\\mahbub\\motor_data\\MDS_UPDRS_Part_II__Patient_Questionnaire.csv\",\n",
    "    r\"B:\\Projects\\PycharmProjects\\PPMI_Research_on_Parkinson's\\src\\mahbub\\motor_data\\MDS-UPDRS_Part_III.csv\",\n",
    "    r\"B:\\Projects\\PycharmProjects\\PPMI_Research_on_Parkinson's\\src\\mahbub\\motor_data\\MDS-UPDRS_Part_IV__Motor_Complications.csv\"\n",
    "]\n",
    "\n",
    "# Function to clean data, replacing NaN and 101 with column mode for feature columns only\n",
    "def clean_data(df):\n",
    "    non_feature_columns = ['PATNO', 'INFODT', 'ORIG_ENTRY'] + [col for col in df.columns if col.endswith('TOT')]\n",
    "    feature_columns = [col for col in df.columns if col not in non_feature_columns and df[col].dtype in [np.float64, np.int64]]\n",
    "    \n",
    "    for column in feature_columns:\n",
    "        # Calculate column mode without 101 values\n",
    "        col_mode = df.loc[df[column] != 101, column].mode()[0]\n",
    "        # Replace 101 with the calculated mode\n",
    "        df[column] = df[column].replace(101, col_mode)\n",
    "        # Replace NaN with the calculated mode\n",
    "        df[column] = df[column].fillna(col_mode)\n",
    "    \n",
    "    return df\n",
    "\n",
    "# Read, clean, and save each CSV file\n",
    "for file_path in file_paths:\n",
    "    df = pd.read_csv(file_path)\n",
    "    df_cleaned = clean_data(df)\n",
    "    df_cleaned.to_csv(file_path, index=False)\n",
    "\n",
    "print(\"All files have been cleaned and saved.\")\n"
   ],
   "metadata": {
    "collapsed": false,
    "ExecuteTime": {
     "end_time": "2024-07-04T15:33:04.163837Z",
     "start_time": "2024-07-04T15:33:03.976862Z"
    }
   },
   "id": "4cf0df4f50480e61",
   "execution_count": 15
  },
  {
   "cell_type": "code",
   "outputs": [
    {
     "name": "stdout",
     "output_type": "stream",
     "text": [
      "Empty rows have been removed and the file has been saved.\n"
     ]
    }
   ],
   "source": [
    "import pandas as pd\n",
    "\n",
    "# Define the file path\n",
    "file_path = r\"B:\\Projects\\PycharmProjects\\PPMI_Research_on_Parkinson's\\src\\mahbub\\motor_data\\MDS-MDS-UPDRS_Part_I.csv\"\n",
    "\n",
    "# Read the CSV file into a DataFrame\n",
    "df = pd.read_csv(file_path)\n",
    "\n",
    "# Drop rows where all elements are NaN\n",
    "df_cleaned = df.dropna(how='all')\n",
    "\n",
    "# Save the cleaned DataFrame back to the CSV file\n",
    "df_cleaned.to_csv(file_path, index=False)\n",
    "\n",
    "print(\"Empty rows have been removed and the file has been saved.\")\n"
   ],
   "metadata": {
    "collapsed": false,
    "ExecuteTime": {
     "end_time": "2024-07-04T17:01:29.308446Z",
     "start_time": "2024-07-04T17:01:29.245081Z"
    }
   },
   "id": "97a9487cc07a677d",
   "execution_count": 16
  },
  {
   "cell_type": "code",
   "outputs": [
    {
     "name": "stdout",
     "output_type": "stream",
     "text": [
      "The 'PATNO' column has been converted to integers and the file has been saved.\n"
     ]
    }
   ],
   "source": [
    "import pandas as pd\n",
    "\n",
    "# Define the file path\n",
    "file_path = r\"B:\\Projects\\PycharmProjects\\PPMI_Research_on_Parkinson's\\src\\mahbub\\motor_data\\MDS-MDS-UPDRS_Part_I.csv\"\n",
    "\n",
    "# Read the CSV file into a DataFrame\n",
    "df = pd.read_csv(file_path)\n",
    "\n",
    "# Convert the 'PATNO' column to integers\n",
    "df['PATNO'] = df['PATNO'].astype(int)\n",
    "\n",
    "# Save the DataFrame back to the CSV file\n",
    "df.to_csv(file_path, index=False)\n",
    "\n",
    "print(\"The 'PATNO' column has been converted to integers and the file has been saved.\")\n"
   ],
   "metadata": {
    "collapsed": false,
    "ExecuteTime": {
     "end_time": "2024-07-04T17:02:50.544389Z",
     "start_time": "2024-07-04T17:02:50.525171Z"
    }
   },
   "id": "9e78e90747743528",
   "execution_count": 17
  },
  {
   "cell_type": "code",
   "outputs": [
    {
     "name": "stdout",
     "output_type": "stream",
     "text": [
      "The files have been merged using a left join with unique INFODT (year and month) rows and saved to: B:\\Projects\\PycharmProjects\\PPMI_Research_on_Parkinson's\\src\\mahbub\\motor_data\\finalDatasetOfFourVisitPatWith_37_39_SliceFeatureExtractedAndMergedMDSdataset.csv\n"
     ]
    }
   ],
   "source": [
    "import pandas as pd\n",
    "\n",
    "# Define file paths\n",
    "master_file_path = r\"B:\\Projects\\PycharmProjects\\PPMI_Research_on_Parkinson's\\src\\mahbub\\motor_data\\fourv_plus_updrs_one_plus_oneq_plus_twoq_plus_three.csv\"\n",
    "file_to_merge_path = r\"B:\\Projects\\PycharmProjects\\PPMI_Research_on_Parkinson's\\src\\mahbub\\motor_data\\DaTscan_Imaging.csv\"\n",
    "\n",
    "# Read the CSV files into DataFrames\n",
    "df_master = pd.read_csv(master_file_path)\n",
    "df_to_merge = pd.read_csv(file_to_merge_path)\n",
    "\n",
    "# Convert 'Visit Date' and 'INFODT' to datetime with year and month precision\n",
    "df_master['Visit Date'] = pd.to_datetime(df_master['Visit Date']).dt.to_period('M')\n",
    "df_to_merge['INFODT'] = pd.to_datetime(df_to_merge['INFODT']).dt.to_period('M')\n",
    "\n",
    "# Drop duplicates in df_to_merge based on 'PATNO' and 'INFODT' (year and month)\n",
    "df_to_merge_unique = df_to_merge.drop_duplicates(subset=['PATNO', 'INFODT'])\n",
    "\n",
    "# Merge using left join on 'Patient ID' and 'Visit Date' (year and month)\n",
    "merged_df = pd.merge(df_master, df_to_merge_unique, how='left', \n",
    "                     left_on=['Patient ID', 'Visit Date'], right_on=['PATNO', 'INFODT'])\n",
    "\n",
    "\n",
    "# Drop redundant columns after merge\n",
    "merged_df.drop(columns=['PATNO', 'INFODT'], inplace=True)\n",
    "\n",
    "# Save the merged DataFrame to a new CSV file\n",
    "output_file_path = r\"B:\\Projects\\PycharmProjects\\PPMI_Research_on_Parkinson's\\src\\mahbub\\motor_data\\finalDatasetOfFourVisitPatWith_37_39_SliceFeatureExtractedAndMergedMDSdataset.csv\"\n",
    "merged_df.to_csv(output_file_path, index=False)\n",
    "\n",
    "print(\"The files have been merged using a left join with unique INFODT (year and month) rows and saved to:\", output_file_path)\n"
   ],
   "metadata": {
    "collapsed": false,
    "ExecuteTime": {
     "end_time": "2024-07-04T20:43:09.242349Z",
     "start_time": "2024-07-04T20:43:09.187943Z"
    }
   },
   "id": "47dd9a00b1efb06c",
   "execution_count": 29
  },
  {
   "cell_type": "code",
   "outputs": [],
   "source": [],
   "metadata": {
    "collapsed": false
   },
   "id": "8fc29966f8ad9d0f"
  }
 ],
 "metadata": {
  "kernelspec": {
   "display_name": "Python 3",
   "language": "python",
   "name": "python3"
  },
  "language_info": {
   "codemirror_mode": {
    "name": "ipython",
    "version": 2
   },
   "file_extension": ".py",
   "mimetype": "text/x-python",
   "name": "python",
   "nbconvert_exporter": "python",
   "pygments_lexer": "ipython2",
   "version": "2.7.6"
  }
 },
 "nbformat": 4,
 "nbformat_minor": 5
}
