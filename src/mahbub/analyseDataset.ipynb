{
 "cells": [
  {
   "cell_type": "code",
   "execution_count": null,
   "id": "initial_id",
   "metadata": {
    "collapsed": true
   },
   "outputs": [],
   "source": [
    "import os\n",
    "\n",
    "print('Patient with 5 visit')\n",
    "print(len(os.listdir('B:/Sami Sir Research/Data set/Final Dataset v2/five_v')))\n",
    "print('Patient with 4 visit')\n",
    "print(len(os.listdir('B:/Sami Sir Research/Data set/Final Dataset v2/four_v')))\n",
    "print('Patient with 3 visit')\n",
    "print(len(os.listdir('B:/Sami Sir Research/Data set/Final Dataset v2/three_v')))\n",
    "print('Patient with 2 visit')\n",
    "print(len(os.listdir('B:/Sami Sir Research/Data set/Final Dataset v2/two_v')))\n",
    "print('Patient with 1 visit')\n",
    "print(len(os.listdir('B:/Sami Sir Research/Data set/Final Dataset v2/one_v')))"
   ]
  },
  {
   "cell_type": "code",
   "outputs": [],
   "source": [
    "import os\n",
    "import shutil\n",
    "\n",
    "def split_dataset_based_on_visit_count(root_dir):\n",
    "    patient_list = os.listdir(root_dir)\n",
    "    print(len(patient_list))\n",
    "    \n",
    "    # Define base directory for the new folders\n",
    "    base_dir = r'B:\\Sami Sir Research\\Data set\\Final Dataset v2'\n",
    "\n",
    "    for patient_id in patient_list:\n",
    "        patient_dir = os.path.join(root_dir, patient_id)\n",
    "        \n",
    "        if os.path.isdir(patient_dir):\n",
    "            # Inside each patient directory, look for Reconstructed_DaTSCAN directory\n",
    "            reconstructed_datscan_dir = os.path.join(patient_dir, \"Reconstructed_DaTSCAN\")\n",
    "            if os.path.isdir(reconstructed_datscan_dir):\n",
    "                # Inside Reconstructed_DaTSCAN, look for date folders\n",
    "                patient_visit = os.listdir(reconstructed_datscan_dir)\n",
    "                visit_count = len(patient_visit)\n",
    "                \n",
    "                if visit_count == 5:\n",
    "                    destination = os.path.join(base_dir, 'five_v')\n",
    "                elif visit_count == 4:\n",
    "                    destination = os.path.join(base_dir, 'four_v')\n",
    "                elif visit_count == 3:\n",
    "                    destination = os.path.join(base_dir, 'three_v')\n",
    "                elif visit_count == 2:\n",
    "                    destination = os.path.join(base_dir, 'two_v')\n",
    "                elif visit_count == 1:\n",
    "                    destination = os.path.join(base_dir, 'one_v')\n",
    "                else:\n",
    "                    continue  # Skip if there are no visits\n",
    "                \n",
    "                # Ensure the destination directory exists\n",
    "                if not os.path.exists(destination):\n",
    "                    os.makedirs(destination)\n",
    "                \n",
    "                # Copy the patient directory to the appropriate destination\n",
    "                shutil.copytree(patient_dir, os.path.join(destination, patient_id))\n",
    "\n",
    "# Example usage\n",
    "# traverse_directory('/path/to/root_directory')\n",
    "\n",
    "                    \n",
    "            \n",
    "           "
   ],
   "metadata": {
    "collapsed": false,
    "ExecuteTime": {
     "end_time": "2024-06-03T20:39:20.478194Z",
     "start_time": "2024-06-03T20:39:20.472951Z"
    }
   },
   "id": "5360cf7868668ace",
   "execution_count": 14
  },
  {
   "cell_type": "code",
   "outputs": [
    {
     "name": "stdout",
     "output_type": "stream",
     "text": [
      "1582\n"
     ]
    }
   ],
   "source": [
    "split_dataset_based_on_visit_count(r'B:\\Sami Sir Research\\Data set\\Final Dataset v2\\PD')"
   ],
   "metadata": {
    "collapsed": false,
    "ExecuteTime": {
     "end_time": "2024-06-03T20:39:33.642233Z",
     "start_time": "2024-06-03T20:39:23.930922Z"
    }
   },
   "id": "f16861cc75378914",
   "execution_count": 15
  },
  {
   "cell_type": "code",
   "outputs": [
    {
     "name": "stdout",
     "output_type": "stream",
     "text": [
      "Patients with five visit: 15\n",
      "Patients with four visit: 228\n",
      "Patients with three visit: 243\n",
      "Patients with two visit: 289\n",
      "Patients with one visit: 807\n",
      "Total number of patients: 1582\n"
     ]
    }
   ],
   "source": [
    "def print_patient_counts(base_dir):\n",
    "    categories = ['five_v', 'four_v', 'three_v', 'two_v', 'one_v']\n",
    "    total_patients = 0\n",
    "\n",
    "    for category in categories:\n",
    "        category_dir = os.path.join(base_dir, category)\n",
    "        patient_count = len(os.listdir(category_dir))\n",
    "        total_patients += patient_count\n",
    "        print(f'Patients with {category.split(\"_\")[0]} visit: {patient_count}')\n",
    "    \n",
    "    print(f'Total number of patients: {total_patients}')\n",
    "\n",
    "# Example usage\n",
    "base_dir = 'B:/Sami Sir Research/Data set/Final Dataset v2'\n",
    "print_patient_counts(base_dir)\n"
   ],
   "metadata": {
    "collapsed": false,
    "ExecuteTime": {
     "end_time": "2024-06-03T20:39:38.199081Z",
     "start_time": "2024-06-03T20:39:38.194313Z"
    }
   },
   "id": "28dde6248c9c774d",
   "execution_count": 16
  },
  {
   "cell_type": "code",
   "outputs": [],
   "source": [
    "import os\n",
    "import csv\n",
    "\n",
    "def create_csv(root_dir, output_csv):\n",
    "    # List of patients sorted in ascending order numerically\n",
    "    patient_list = sorted(os.listdir(root_dir), key=lambda x: int(x))\n",
    "\n",
    "    visit_data = []\n",
    "\n",
    "    for patient_id in patient_list:\n",
    "        patient_dir = os.path.join(root_dir, patient_id)\n",
    "        if os.path.isdir(patient_dir):\n",
    "            # Inside each patient directory, look for Reconstructed_DaTSCAN directory\n",
    "            reconstructed_datscan_dir = os.path.join(patient_dir, \"Reconstructed_DaTSCAN\")\n",
    "            if os.path.isdir(reconstructed_datscan_dir):\n",
    "                # Inside Reconstructed_DaTSCAN, look for date folders\n",
    "                patient_visits = sorted(os.listdir(reconstructed_datscan_dir))\n",
    "\n",
    "                # Extract YYYY-MM-DD part from the folder names and store the data\n",
    "                for visit in patient_visits:\n",
    "                    visit_date = visit.split('_')[0]\n",
    "                    visit_data.append([patient_id, visit_date])\n",
    "\n",
    "    # Write the data to a CSV file\n",
    "    with open(output_csv, 'w', newline='') as csvfile:\n",
    "        writer = csv.writer(csvfile)\n",
    "        writer.writerow(['Patient ID', 'Visit Date'])\n",
    "        writer.writerows(visit_data)\n",
    "\n",
    "# Example usage\n",
    "create_csv('B:/Sami Sir Research/Data set/Final Dataset v2/five_v', 'B:/Sami Sir Research/Data set/Final Dataset v2/five_v.csv')\n",
    "create_csv('B:/Sami Sir Research/Data set/Final Dataset v2/four_v', 'B:/Sami Sir Research/Data set/Final Dataset v2/four_v.csv')\n",
    "create_csv('B:/Sami Sir Research/Data set/Final Dataset v2/three_v', 'B:/Sami Sir Research/Data set/Final Dataset v2/three_v.csv')\n",
    "create_csv('B:/Sami Sir Research/Data set/Final Dataset v2/two_v', 'B:/Sami Sir Research/Data set/Final Dataset v2/two_v.csv')\n",
    "create_csv('B:/Sami Sir Research/Data set/Final Dataset v2/one_v', 'B:/Sami Sir Research/Data set/Final Dataset v2/one_v.csv')\n"
   ],
   "metadata": {
    "collapsed": false,
    "ExecuteTime": {
     "end_time": "2024-06-03T21:12:07.920172Z",
     "start_time": "2024-06-03T21:12:07.829785Z"
    }
   },
   "id": "7bf5de3b03da7071",
   "execution_count": 21
  }
 ],
 "metadata": {
  "kernelspec": {
   "display_name": "Python 3",
   "language": "python",
   "name": "python3"
  },
  "language_info": {
   "codemirror_mode": {
    "name": "ipython",
    "version": 2
   },
   "file_extension": ".py",
   "mimetype": "text/x-python",
   "name": "python",
   "nbconvert_exporter": "python",
   "pygments_lexer": "ipython2",
   "version": "2.7.6"
  }
 },
 "nbformat": 4,
 "nbformat_minor": 5
}
