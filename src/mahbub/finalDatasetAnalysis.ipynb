{
 "cells": [
  {
   "cell_type": "code",
   "outputs": [
    {
     "name": "stdout",
     "output_type": "stream",
     "text": [
      "Rows with null values in B:\\Projects\\PycharmProjects\\PPMI_Research_on_Parkinson's\\src\\mahbub\\ppmi_master_dataset.csv:\n",
      "Patient ID: 3059, Visit Date: 28/02/2012, Null Columns Count: 2\n",
      "Patient ID: 3078, Visit Date: 26/04/2016, Null Columns Count: 25\n",
      "Patient ID: 3105, Visit Date: 10/08/2011, Null Columns Count: 63\n",
      "Patient ID: 3105, Visit Date: 17/04/2012, Null Columns Count: 63\n",
      "Patient ID: 3105, Visit Date: 19/04/2013, Null Columns Count: 63\n",
      "Patient ID: 3105, Visit Date: 31/03/2015, Null Columns Count: 63\n",
      "Patient ID: 3168, Visit Date: 09/10/2012, Null Columns Count: 1\n",
      "Patient ID: 3168, Visit Date: 27/08/2013, Null Columns Count: 1\n",
      "Patient ID: 3212, Visit Date: 14/07/2011, Null Columns Count: 63\n",
      "Patient ID: 3212, Visit Date: 27/06/2012, Null Columns Count: 63\n",
      "Patient ID: 3212, Visit Date: 26/07/2013, Null Columns Count: 63\n",
      "Patient ID: 3212, Visit Date: 22/07/2015, Null Columns Count: 63\n",
      "Patient ID: 3323, Visit Date: 06/06/2012, Null Columns Count: 1\n",
      "Patient ID: 3323, Visit Date: 10/08/2016, Null Columns Count: 1\n",
      "Patient ID: 3372, Visit Date: 27/04/2016, Null Columns Count: 25\n",
      "Patient ID: 3378, Visit Date: 19/05/2016, Null Columns Count: 25\n",
      "Patient ID: 4070, Visit Date: 16/05/2012, Null Columns Count: 5\n",
      "Patient ID: 4092, Visit Date: 04/06/2014, Null Columns Count: 25\n",
      "Patient ID: 103813, Visit Date: 26/08/2021, Null Columns Count: 12\n"
     ]
    }
   ],
   "source": [
    "import pandas as pd\n",
    "from tabulate import tabulate\n",
    "\n",
    "def print_null_columns_info(file_path):\n",
    "    # Read the CSV file\n",
    "    df = pd.read_csv(file_path)\n",
    "    \n",
    "    # Find rows with any null values\n",
    "    rows_with_nulls = df[df.isnull().any(axis=1)]\n",
    "    \n",
    "    # Print patient ID, visit date, and count of null columns\n",
    "    if not rows_with_nulls.empty:\n",
    "        print(f\"Rows with null values in {file_path}:\")\n",
    "        for index, row in rows_with_nulls.iterrows():\n",
    "            null_columns_count = row.isnull().sum()\n",
    "            patient_id = row['Patient ID']\n",
    "            visit_date = row['Visit Date']\n",
    "            print(f\"Patient ID: {patient_id}, Visit Date: {visit_date}, Null Columns Count: {null_columns_count}\")\n",
    "    else:\n",
    "        print(f\"No rows with null values in {file_path}.\")\n",
    "\n",
    "# Example usage\n",
    "file_path = r\"B:\\Projects\\PycharmProjects\\PPMI_Research_on_Parkinson's\\src\\mahbub\\ppmi_master_dataset.csv\"\n",
    "print_null_columns_info(file_path)\n"
   ],
   "metadata": {
    "collapsed": false,
    "ExecuteTime": {
     "end_time": "2024-06-22T13:19:37.727489Z",
     "start_time": "2024-06-22T13:19:37.706637Z"
    }
   },
   "id": "34825f520d015b47",
   "execution_count": 1
  },
  {
   "cell_type": "code",
   "outputs": [],
   "source": [
    "import pandas as pd\n",
    "import matplotlib.pyplot as plt\n",
    "import seaborn as sns\n",
    "from matplotlib.backends.backend_pdf import PdfPages\n",
    "from sklearn.decomposition import PCA\n",
    "from lifelines import KaplanMeierFitter\n",
    "import os"
   ],
   "metadata": {
    "collapsed": false,
    "ExecuteTime": {
     "end_time": "2024-06-22T13:19:38.601728Z",
     "start_time": "2024-06-22T13:19:37.980961Z"
    }
   },
   "id": "9db62891ce91fe76",
   "execution_count": 2
  },
  {
   "cell_type": "code",
   "outputs": [],
   "source": [
    "def preprocess_data(file_path):\n",
    "    data = pd.read_csv(file_path)\n",
    "    data['Visit Date'] = pd.to_datetime(data['Visit Date'], dayfirst=True)\n",
    "    data = data.sort_values(by=['Patient ID', 'Visit Date'])\n",
    "    data.fillna(data.mode().iloc[0], inplace=True)\n",
    "    data['VisitNumber'] = data.groupby('Patient ID').cumcount() + 1\n",
    "    non_feature_columns = ['Patient ID', 'Visit Date', 'VisitNumber', 'EVENT_ID']\n",
    "    features = [col for col in data.columns if col not in non_feature_columns]\n",
    "    return data, features"
   ],
   "metadata": {
    "collapsed": false,
    "ExecuteTime": {
     "end_time": "2024-06-22T13:19:39.171478Z",
     "start_time": "2024-06-22T13:19:39.167796Z"
    }
   },
   "id": "783197e2fc51b519",
   "execution_count": 3
  },
  {
   "cell_type": "code",
   "outputs": [],
   "source": [
    "if __name__ == \"__main__\":\n",
    "    file_path = r\"B:\\Projects\\PycharmProjects\\PPMI_Research_on_Parkinson's\\src\\mahbub\\ppmi_master_dataset.csv\"\n",
    "    data,features = preprocess_data(file_path)\n",
    "      \n",
    "    # Save the preprocessed data to a CSV file\n",
    "    data.to_csv('preprocessed_ppmi_master_dataset.csv', index=False)\n",
    "    output_dir = \"plots\"\n",
    "\n",
    "    # Ensure the output directory exists or create it\n",
    "    os.makedirs(output_dir, exist_ok=True)"
   ],
   "metadata": {
    "collapsed": false,
    "ExecuteTime": {
     "end_time": "2024-06-22T13:19:40.386425Z",
     "start_time": "2024-06-22T13:19:40.295607Z"
    }
   },
   "id": "c5ba9bf2648cd774",
   "execution_count": 4
  },
  {
   "cell_type": "code",
   "outputs": [
    {
     "name": "stdout",
     "output_type": "stream",
     "text": [
      "Working with line plot\n",
      "PDF saved successfully: plots\\line_plots.pdf\n"
     ]
    }
   ],
   "source": [
    "\n",
    "def plot_line_plots(data, features, pdf_filename):\n",
    "    \"\"\"\n",
    "    Generate line plots for each feature across four visits and save them to a PDF.\n",
    "\n",
    "    Parameters:\n",
    "    - data (DataFrame): The input DataFrame containing the dataset.\n",
    "    - features (list): List of features (columns) in the dataset to plot.\n",
    "    - pdf_filename (str): File name for the PDF to save the plots.\n",
    "    \"\"\"\n",
    "    with PdfPages(pdf_filename) as pdf:\n",
    "        for feature in features:\n",
    "            fig, axes = plt.subplots(1, 4, figsize=(20, 5))  # Create subplots for 4 visits\n",
    "            \n",
    "            for visit in range(1, 5):\n",
    "                ax = axes[visit - 1]  # Select the current subplot\n",
    "                visit_data = data[data['VisitNumber'] == visit][feature]\n",
    "                ax.plot(visit_data)\n",
    "                ax.set_title(f'Visit {visit}')\n",
    "                ax.set_xlabel('Observation')\n",
    "                ax.set_ylabel(feature)\n",
    "                ax.legend([f'Visit {visit}'])\n",
    "            \n",
    "            fig.suptitle(f'Line Plot of {feature} Across Visits', y=1.05)\n",
    "            fig.tight_layout()\n",
    "            pdf.savefig()\n",
    "            plt.close()\n",
    "\n",
    "        print(f\"PDF saved successfully: {pdf_filename}\")\n",
    "\n",
    "print('Working with line plot')\n",
    "plot_line_plots(data, features, os.path.join(output_dir, \"line_plots.pdf\"))\n"
   ],
   "metadata": {
    "collapsed": false,
    "ExecuteTime": {
     "end_time": "2024-06-22T13:20:16.550871Z",
     "start_time": "2024-06-22T13:19:44.121952Z"
    }
   },
   "id": "22877d4a0048d23c",
   "execution_count": 5
  },
  {
   "cell_type": "code",
   "outputs": [
    {
     "name": "stdout",
     "output_type": "stream",
     "text": [
      "Working with scatter plot\n",
      "PDF saved successfully: plots\\scatter_plots.pdf\n"
     ]
    }
   ],
   "source": [
    "def plot_scatter_plots(data, features, pdf_filename):\n",
    "    \"\"\"\n",
    "    Generate scatter plots for pairs of features between consecutive visits and save them to a PDF.\n",
    "\n",
    "    Parameters:\n",
    "    - data (DataFrame): The input DataFrame containing the dataset.\n",
    "    - features (list): List of features (columns) in the dataset to plot.\n",
    "    - pdf_filename (str): File name for the PDF to save the plots.\n",
    "    \"\"\"\n",
    "    with PdfPages(pdf_filename) as pdf:\n",
    "        for feature in features:\n",
    "            fig, axes = plt.subplots(1, 3, figsize=(18, 5))  # Create subplots for 3 pairs (1-2, 2-3, 3-4)\n",
    "\n",
    "            for i, visit in enumerate(range(1, 4)):\n",
    "                ax = axes[i]  # Select the current subplot\n",
    "                visit_data_x = data[data['VisitNumber'] == visit][feature]\n",
    "                visit_data_y = data[data['VisitNumber'] == visit + 1][feature]\n",
    "                ax.scatter(visit_data_x, visit_data_y, label=f'Visit {visit}-{visit + 1}')\n",
    "                ax.set_title(f'Scatter Plot of {feature} Between Visits {visit} and {visit + 1}')\n",
    "                ax.set_xlabel(f'Visit {visit}')\n",
    "                ax.set_ylabel(f'Visit {visit + 1}')\n",
    "                ax.legend()\n",
    "\n",
    "            fig.suptitle(f'Scatter Plots of {feature} Between Consecutive Visits', y=1.05)\n",
    "            fig.tight_layout()\n",
    "\n",
    "            # Save the figure with all three subplots to the PDF\n",
    "            pdf.savefig()\n",
    "            plt.close()\n",
    "\n",
    "        print(f\"PDF saved successfully: {pdf_filename}\")\n",
    "        \n",
    "print('Working with scatter plot')\n",
    "plot_scatter_plots(data, features, os.path.join(output_dir, \"scatter_plots.pdf\"))\n"
   ],
   "metadata": {
    "collapsed": false,
    "ExecuteTime": {
     "end_time": "2024-06-22T13:20:50.165582Z",
     "start_time": "2024-06-22T13:20:16.551878Z"
    }
   },
   "id": "e4238e6ea403f8a6",
   "execution_count": 6
  },
  {
   "cell_type": "code",
   "outputs": [
    {
     "name": "stdout",
     "output_type": "stream",
     "text": [
      "Working with box plot\n",
      "PDF saved successfully: plots\\box_plots.pdf\n"
     ]
    }
   ],
   "source": [
    "\n",
    "def plot_box_plots(data, features, pdf_filename):\n",
    "    \"\"\"\n",
    "    Generate box plots for each feature across all visits and save them to a PDF.\n",
    "\n",
    "    Parameters:\n",
    "    - data (DataFrame): The input DataFrame containing the dataset.\n",
    "    - features (list): List of features (columns) in the dataset to plot.\n",
    "    - pdf_filename (str): File name for the PDF to save the plots.\n",
    "    \"\"\"\n",
    "    with PdfPages(pdf_filename) as pdf:\n",
    "        for feature in features:\n",
    "            plt.figure(figsize=(10, 6))\n",
    "            sns.boxplot(x='VisitNumber', y=feature, data=data)\n",
    "            plt.title(f'Box Plot of {feature} Across Visits')\n",
    "            plt.xlabel('Visit Number')\n",
    "            plt.ylabel(feature)\n",
    "            pdf.savefig()\n",
    "            plt.close()\n",
    "        print(f\"PDF saved successfully: {pdf_filename}\")\n",
    "\n",
    "print('Working with box plot')\n",
    "plot_box_plots(data, features, os.path.join(output_dir, \"box_plots.pdf\"))\n"
   ],
   "metadata": {
    "collapsed": false,
    "ExecuteTime": {
     "end_time": "2024-06-22T13:20:56.605803Z",
     "start_time": "2024-06-22T13:20:50.165582Z"
    }
   },
   "id": "5ed8c5ce60c131db",
   "execution_count": 7
  },
  {
   "cell_type": "code",
   "outputs": [
    {
     "name": "stdout",
     "output_type": "stream",
     "text": [
      "Working with violin plot\n",
      "PDF saved successfully: plots\\violin_plots.pdf\n"
     ]
    }
   ],
   "source": [
    "def plot_violin_plots(data, features, pdf_filename):\n",
    "    \"\"\"\n",
    "    Generate violin plots for each feature across all visits and save them to a PDF.\n",
    "\n",
    "    Parameters:\n",
    "    - data (DataFrame): The input DataFrame containing the dataset.\n",
    "    - features (list): List of features (columns) in the dataset to plot.\n",
    "    - pdf_filename (str): File name for the PDF to save the plots.\n",
    "    \"\"\"\n",
    "    with PdfPages(pdf_filename) as pdf:\n",
    "        for feature in features:\n",
    "            plt.figure(figsize=(10, 6))\n",
    "            sns.violinplot(x='VisitNumber', y=feature, data=data)\n",
    "            plt.title(f'Violin Plot of {feature} Across Visits')\n",
    "            plt.xlabel('Visit Number')\n",
    "            plt.ylabel(feature)\n",
    "            pdf.savefig()\n",
    "            plt.close()\n",
    "        print(f\"PDF saved successfully: {pdf_filename}\")\n",
    "\n",
    "print('Working with violin plot')\n",
    "plot_violin_plots(data, features, os.path.join(output_dir, \"violin_plots.pdf\"))\n"
   ],
   "metadata": {
    "collapsed": false,
    "ExecuteTime": {
     "end_time": "2024-06-22T13:21:02.543252Z",
     "start_time": "2024-06-22T13:20:56.606858Z"
    }
   },
   "id": "cd892ac0b74de3a2",
   "execution_count": 8
  },
  {
   "cell_type": "code",
   "outputs": [
    {
     "name": "stdout",
     "output_type": "stream",
     "text": [
      "Working with histograms\n",
      "PDF saved successfully: plots\\histograms.pdf\n"
     ]
    }
   ],
   "source": [
    "def plot_histograms(data, features, pdf_filename):\n",
    "    \"\"\"\n",
    "    Generate histograms for each feature across all visits and save them to a PDF.\n",
    "\n",
    "    Parameters:\n",
    "    - data (DataFrame): The input DataFrame containing the dataset.\n",
    "    - features (list): List of features (columns) in the dataset to plot.\n",
    "    - pdf_filename (str): File name for the PDF to save the plots.\n",
    "    \"\"\"\n",
    "    with PdfPages(pdf_filename) as pdf:\n",
    "        for feature in features:\n",
    "            fig, axes = plt.subplots(1, 4, figsize=(20, 5))  # Create subplots for 4 visits\n",
    "            \n",
    "            for visit in range(1, 5):\n",
    "                ax = axes[visit - 1]  # Select the current subplot\n",
    "                visit_data = data[data['VisitNumber'] == visit][feature]\n",
    "                ax.hist(visit_data, bins=20, alpha=0.5, label=f'Visit {visit}')\n",
    "                ax.set_title(f'Histogram of {feature}, Visit {visit}')\n",
    "                ax.set_xlabel(feature)\n",
    "                ax.set_ylabel('Frequency')\n",
    "                ax.legend()\n",
    "\n",
    "            fig.suptitle(f'Histograms of {feature} Across Visits', y=1.05)\n",
    "            fig.tight_layout()\n",
    "\n",
    "            # Save the figure with all four subplots to the PDF\n",
    "            pdf.savefig()\n",
    "            plt.close()\n",
    "\n",
    "        print(f\"PDF saved successfully: {pdf_filename}\")\n",
    "\n",
    "print('Working with histograms')\n",
    "plot_histograms(data, features, os.path.join(output_dir, \"histograms.pdf\"))\n",
    "\n"
   ],
   "metadata": {
    "collapsed": false,
    "ExecuteTime": {
     "end_time": "2024-06-22T13:21:42.092972Z",
     "start_time": "2024-06-22T13:21:02.544262Z"
    }
   },
   "id": "24e7fd7a7ac3e640",
   "execution_count": 9
  },
  {
   "cell_type": "code",
   "outputs": [
    {
     "name": "stdout",
     "output_type": "stream",
     "text": [
      "Working with density_plots\n"
     ]
    },
    {
     "name": "stderr",
     "output_type": "stream",
     "text": [
      "C:\\Users\\bubha\\AppData\\Local\\Temp\\ipykernel_4960\\2272004873.py:15: UserWarning: Dataset has 0 variance; skipping density estimate. Pass `warn_singular=False` to disable this warning.\n",
      "  sns.kdeplot(visit_data, label=f'Visit {visit}')\n",
      "C:\\Users\\bubha\\AppData\\Local\\Temp\\ipykernel_4960\\2272004873.py:15: UserWarning: Dataset has 0 variance; skipping density estimate. Pass `warn_singular=False` to disable this warning.\n",
      "  sns.kdeplot(visit_data, label=f'Visit {visit}')\n",
      "C:\\Users\\bubha\\AppData\\Local\\Temp\\ipykernel_4960\\2272004873.py:15: UserWarning: Dataset has 0 variance; skipping density estimate. Pass `warn_singular=False` to disable this warning.\n",
      "  sns.kdeplot(visit_data, label=f'Visit {visit}')\n",
      "C:\\Users\\bubha\\AppData\\Local\\Temp\\ipykernel_4960\\2272004873.py:15: UserWarning: Dataset has 0 variance; skipping density estimate. Pass `warn_singular=False` to disable this warning.\n",
      "  sns.kdeplot(visit_data, label=f'Visit {visit}')\n",
      "C:\\Users\\bubha\\AppData\\Local\\Temp\\ipykernel_4960\\2272004873.py:15: UserWarning: Dataset has 0 variance; skipping density estimate. Pass `warn_singular=False` to disable this warning.\n",
      "  sns.kdeplot(visit_data, label=f'Visit {visit}')\n",
      "No artists with labels found to put in legend.  Note that artists whose label start with an underscore are ignored when legend() is called with no argument.\n"
     ]
    },
    {
     "name": "stdout",
     "output_type": "stream",
     "text": [
      "PDF saved successfully: plots\\density_plots.pdf\n"
     ]
    }
   ],
   "source": [
    "def plot_density_plots(data, features, pdf_filename):\n",
    "    \"\"\"\n",
    "    Generate probability density function (PDF) plots for each feature across all visits and save them to a PDF.\n",
    "\n",
    "    Parameters:\n",
    "    - data (DataFrame): The input DataFrame containing the dataset.\n",
    "    - features (list): List of features (columns) in the dataset to plot.\n",
    "    - pdf_filename (str): File name for the PDF to save the plots.\n",
    "    \"\"\"\n",
    "    with PdfPages(pdf_filename) as pdf:\n",
    "        for feature in features:\n",
    "            plt.figure(figsize=(10, 6))\n",
    "            for visit in range(1, 5):\n",
    "                visit_data = data[data['VisitNumber'] == visit][feature]\n",
    "                sns.kdeplot(visit_data, label=f'Visit {visit}')\n",
    "            plt.title(f'Probability Density Function (PDF) of {feature} Across Visits')\n",
    "            plt.xlabel(feature)\n",
    "            plt.ylabel('Density')\n",
    "            plt.legend()\n",
    "            pdf.savefig()\n",
    "            plt.close()\n",
    "        print(f\"PDF saved successfully: {pdf_filename}\")\n",
    "        \n",
    "print('Working with density_plots')\n",
    "plot_density_plots(data, features, os.path.join(output_dir, \"density_plots.pdf\"))\n"
   ],
   "metadata": {
    "collapsed": false,
    "ExecuteTime": {
     "end_time": "2024-06-22T13:21:50.278901Z",
     "start_time": "2024-06-22T13:21:42.092972Z"
    }
   },
   "id": "e3e985534997a685",
   "execution_count": 10
  },
  {
   "cell_type": "code",
   "outputs": [
    {
     "name": "stdout",
     "output_type": "stream",
     "text": [
      "Working with heatmaps\n",
      "PDF saved successfully: plots\\heatmaps.pdf\n"
     ]
    }
   ],
   "source": [
    "def plot_heatmaps(data, features, pdf_filename):\n",
    "    \"\"\"\n",
    "    Generate heatmaps for selected features and save them to a PDF.\n",
    "\n",
    "    Parameters:\n",
    "    - data (DataFrame): The input DataFrame containing the dataset.\n",
    "    - features (list): List of features (columns) in the dataset to plot as heatmap.\n",
    "    - pdf_filename (str): File name for the PDF to save the plots.\n",
    "    \"\"\"\n",
    "    # Compute correlation matrix\n",
    "    corr_matrix = data[features].corr()\n",
    "\n",
    "    with PdfPages(pdf_filename) as pdf:\n",
    "        plt.figure(figsize=(50, 40))\n",
    "        sns.heatmap(corr_matrix, annot=True, cmap='coolwarm', vmin=-1, vmax=1)\n",
    "        plt.title('Correlation Matrix Heatmap')\n",
    "        pdf.savefig()\n",
    "        plt.close()\n",
    "        print(f\"PDF saved successfully: {pdf_filename}\")\n",
    "        \n",
    "print('Working with heatmaps')\n",
    "plot_heatmaps(data, features, os.path.join(output_dir, \"heatmaps.pdf\"))"
   ],
   "metadata": {
    "collapsed": false,
    "ExecuteTime": {
     "end_time": "2024-06-22T13:21:55.314520Z",
     "start_time": "2024-06-22T13:21:50.278901Z"
    }
   },
   "id": "5fb905b571d287ec",
   "execution_count": 11
  },
  {
   "cell_type": "code",
   "outputs": [
    {
     "name": "stdout",
     "output_type": "stream",
     "text": [
      "Working with pair plots\n"
     ]
    },
    {
     "name": "stderr",
     "output_type": "stream",
     "text": [
      "C:\\Users\\bubha\\AppData\\Local\\Temp\\ipykernel_4960\\2295574459.py:13: MatplotlibDeprecationWarning: Keeping empty pdf files is deprecated since 3.8 and support will be removed two minor releases later.\n",
      "  with PdfPages(pdf_filename) as pdf:\n",
      "\n",
      "KeyboardInterrupt\n",
      "\n"
     ]
    },
    {
     "name": "stdout",
     "output_type": "stream",
     "text": [
      "Error in callback <function _draw_all_if_interactive at 0x000001F3344B63E0> (for post_execute), with arguments args (),kwargs {}:\n"
     ]
    },
    {
     "name": "stderr",
     "output_type": "stream",
     "text": [
      "\n",
      "KeyboardInterrupt\n",
      "\n"
     ]
    },
    {
     "name": "stdout",
     "output_type": "stream",
     "text": [
      "Error in callback <function flush_figures at 0x000001F34D76A340> (for post_execute), with arguments args (),kwargs {}:\n"
     ]
    },
    {
     "ename": "KeyboardInterrupt",
     "evalue": "",
     "output_type": "error",
     "traceback": [
      "\u001B[1;31m---------------------------------------------------------------------------\u001B[0m",
      "\u001B[1;31mKeyboardInterrupt\u001B[0m                         Traceback (most recent call last)",
      "File \u001B[1;32mB:\\Projects\\PycharmProjects\\PPMI_Research_on_Parkinson's\\.venv\\Lib\\site-packages\\matplotlib_inline\\backend_inline.py:126\u001B[0m, in \u001B[0;36mflush_figures\u001B[1;34m()\u001B[0m\n\u001B[0;32m    123\u001B[0m \u001B[38;5;28;01mif\u001B[39;00m InlineBackend\u001B[38;5;241m.\u001B[39minstance()\u001B[38;5;241m.\u001B[39mclose_figures:\n\u001B[0;32m    124\u001B[0m     \u001B[38;5;66;03m# ignore the tracking, just draw and close all figures\u001B[39;00m\n\u001B[0;32m    125\u001B[0m     \u001B[38;5;28;01mtry\u001B[39;00m:\n\u001B[1;32m--> 126\u001B[0m         \u001B[38;5;28;01mreturn\u001B[39;00m \u001B[43mshow\u001B[49m\u001B[43m(\u001B[49m\u001B[38;5;28;43;01mTrue\u001B[39;49;00m\u001B[43m)\u001B[49m\n\u001B[0;32m    127\u001B[0m     \u001B[38;5;28;01mexcept\u001B[39;00m \u001B[38;5;167;01mException\u001B[39;00m \u001B[38;5;28;01mas\u001B[39;00m e:\n\u001B[0;32m    128\u001B[0m         \u001B[38;5;66;03m# safely show traceback if in IPython, else raise\u001B[39;00m\n\u001B[0;32m    129\u001B[0m         ip \u001B[38;5;241m=\u001B[39m get_ipython()\n",
      "File \u001B[1;32mB:\\Projects\\PycharmProjects\\PPMI_Research_on_Parkinson's\\.venv\\Lib\\site-packages\\matplotlib_inline\\backend_inline.py:90\u001B[0m, in \u001B[0;36mshow\u001B[1;34m(close, block)\u001B[0m\n\u001B[0;32m     88\u001B[0m \u001B[38;5;28;01mtry\u001B[39;00m:\n\u001B[0;32m     89\u001B[0m     \u001B[38;5;28;01mfor\u001B[39;00m figure_manager \u001B[38;5;129;01min\u001B[39;00m Gcf\u001B[38;5;241m.\u001B[39mget_all_fig_managers():\n\u001B[1;32m---> 90\u001B[0m         \u001B[43mdisplay\u001B[49m\u001B[43m(\u001B[49m\n\u001B[0;32m     91\u001B[0m \u001B[43m            \u001B[49m\u001B[43mfigure_manager\u001B[49m\u001B[38;5;241;43m.\u001B[39;49m\u001B[43mcanvas\u001B[49m\u001B[38;5;241;43m.\u001B[39;49m\u001B[43mfigure\u001B[49m\u001B[43m,\u001B[49m\n\u001B[0;32m     92\u001B[0m \u001B[43m            \u001B[49m\u001B[43mmetadata\u001B[49m\u001B[38;5;241;43m=\u001B[39;49m\u001B[43m_fetch_figure_metadata\u001B[49m\u001B[43m(\u001B[49m\u001B[43mfigure_manager\u001B[49m\u001B[38;5;241;43m.\u001B[39;49m\u001B[43mcanvas\u001B[49m\u001B[38;5;241;43m.\u001B[39;49m\u001B[43mfigure\u001B[49m\u001B[43m)\u001B[49m\n\u001B[0;32m     93\u001B[0m \u001B[43m        \u001B[49m\u001B[43m)\u001B[49m\n\u001B[0;32m     94\u001B[0m \u001B[38;5;28;01mfinally\u001B[39;00m:\n\u001B[0;32m     95\u001B[0m     show\u001B[38;5;241m.\u001B[39m_to_draw \u001B[38;5;241m=\u001B[39m []\n",
      "File \u001B[1;32mB:\\Projects\\PycharmProjects\\PPMI_Research_on_Parkinson's\\.venv\\Lib\\site-packages\\IPython\\core\\display_functions.py:298\u001B[0m, in \u001B[0;36mdisplay\u001B[1;34m(include, exclude, metadata, transient, display_id, raw, clear, *objs, **kwargs)\u001B[0m\n\u001B[0;32m    296\u001B[0m     publish_display_data(data\u001B[38;5;241m=\u001B[39mobj, metadata\u001B[38;5;241m=\u001B[39mmetadata, \u001B[38;5;241m*\u001B[39m\u001B[38;5;241m*\u001B[39mkwargs)\n\u001B[0;32m    297\u001B[0m \u001B[38;5;28;01melse\u001B[39;00m:\n\u001B[1;32m--> 298\u001B[0m     format_dict, md_dict \u001B[38;5;241m=\u001B[39m \u001B[38;5;28;43mformat\u001B[39;49m\u001B[43m(\u001B[49m\u001B[43mobj\u001B[49m\u001B[43m,\u001B[49m\u001B[43m \u001B[49m\u001B[43minclude\u001B[49m\u001B[38;5;241;43m=\u001B[39;49m\u001B[43minclude\u001B[49m\u001B[43m,\u001B[49m\u001B[43m \u001B[49m\u001B[43mexclude\u001B[49m\u001B[38;5;241;43m=\u001B[39;49m\u001B[43mexclude\u001B[49m\u001B[43m)\u001B[49m\n\u001B[0;32m    299\u001B[0m     \u001B[38;5;28;01mif\u001B[39;00m \u001B[38;5;129;01mnot\u001B[39;00m format_dict:\n\u001B[0;32m    300\u001B[0m         \u001B[38;5;66;03m# nothing to display (e.g. _ipython_display_ took over)\u001B[39;00m\n\u001B[0;32m    301\u001B[0m         \u001B[38;5;28;01mcontinue\u001B[39;00m\n",
      "File \u001B[1;32mB:\\Projects\\PycharmProjects\\PPMI_Research_on_Parkinson's\\.venv\\Lib\\site-packages\\IPython\\core\\formatters.py:182\u001B[0m, in \u001B[0;36mDisplayFormatter.format\u001B[1;34m(self, obj, include, exclude)\u001B[0m\n\u001B[0;32m    180\u001B[0m md \u001B[38;5;241m=\u001B[39m \u001B[38;5;28;01mNone\u001B[39;00m\n\u001B[0;32m    181\u001B[0m \u001B[38;5;28;01mtry\u001B[39;00m:\n\u001B[1;32m--> 182\u001B[0m     data \u001B[38;5;241m=\u001B[39m \u001B[43mformatter\u001B[49m\u001B[43m(\u001B[49m\u001B[43mobj\u001B[49m\u001B[43m)\u001B[49m\n\u001B[0;32m    183\u001B[0m \u001B[38;5;28;01mexcept\u001B[39;00m:\n\u001B[0;32m    184\u001B[0m     \u001B[38;5;66;03m# FIXME: log the exception\u001B[39;00m\n\u001B[0;32m    185\u001B[0m     \u001B[38;5;28;01mraise\u001B[39;00m\n",
      "File \u001B[1;32mB:\\Projects\\PycharmProjects\\PPMI_Research_on_Parkinson's\\.venv\\Lib\\site-packages\\decorator.py:232\u001B[0m, in \u001B[0;36mdecorate.<locals>.fun\u001B[1;34m(*args, **kw)\u001B[0m\n\u001B[0;32m    230\u001B[0m \u001B[38;5;28;01mif\u001B[39;00m \u001B[38;5;129;01mnot\u001B[39;00m kwsyntax:\n\u001B[0;32m    231\u001B[0m     args, kw \u001B[38;5;241m=\u001B[39m fix(args, kw, sig)\n\u001B[1;32m--> 232\u001B[0m \u001B[38;5;28;01mreturn\u001B[39;00m \u001B[43mcaller\u001B[49m\u001B[43m(\u001B[49m\u001B[43mfunc\u001B[49m\u001B[43m,\u001B[49m\u001B[43m \u001B[49m\u001B[38;5;241;43m*\u001B[39;49m\u001B[43m(\u001B[49m\u001B[43mextras\u001B[49m\u001B[43m \u001B[49m\u001B[38;5;241;43m+\u001B[39;49m\u001B[43m \u001B[49m\u001B[43margs\u001B[49m\u001B[43m)\u001B[49m\u001B[43m,\u001B[49m\u001B[43m \u001B[49m\u001B[38;5;241;43m*\u001B[39;49m\u001B[38;5;241;43m*\u001B[39;49m\u001B[43mkw\u001B[49m\u001B[43m)\u001B[49m\n",
      "File \u001B[1;32mB:\\Projects\\PycharmProjects\\PPMI_Research_on_Parkinson's\\.venv\\Lib\\site-packages\\IPython\\core\\formatters.py:226\u001B[0m, in \u001B[0;36mcatch_format_error\u001B[1;34m(method, self, *args, **kwargs)\u001B[0m\n\u001B[0;32m    224\u001B[0m \u001B[38;5;250m\u001B[39m\u001B[38;5;124;03m\"\"\"show traceback on failed format call\"\"\"\u001B[39;00m\n\u001B[0;32m    225\u001B[0m \u001B[38;5;28;01mtry\u001B[39;00m:\n\u001B[1;32m--> 226\u001B[0m     r \u001B[38;5;241m=\u001B[39m \u001B[43mmethod\u001B[49m\u001B[43m(\u001B[49m\u001B[38;5;28;43mself\u001B[39;49m\u001B[43m,\u001B[49m\u001B[43m \u001B[49m\u001B[38;5;241;43m*\u001B[39;49m\u001B[43margs\u001B[49m\u001B[43m,\u001B[49m\u001B[43m \u001B[49m\u001B[38;5;241;43m*\u001B[39;49m\u001B[38;5;241;43m*\u001B[39;49m\u001B[43mkwargs\u001B[49m\u001B[43m)\u001B[49m\n\u001B[0;32m    227\u001B[0m \u001B[38;5;28;01mexcept\u001B[39;00m \u001B[38;5;167;01mNotImplementedError\u001B[39;00m:\n\u001B[0;32m    228\u001B[0m     \u001B[38;5;66;03m# don't warn on NotImplementedErrors\u001B[39;00m\n\u001B[0;32m    229\u001B[0m     \u001B[38;5;28;01mreturn\u001B[39;00m \u001B[38;5;28mself\u001B[39m\u001B[38;5;241m.\u001B[39m_check_return(\u001B[38;5;28;01mNone\u001B[39;00m, args[\u001B[38;5;241m0\u001B[39m])\n",
      "File \u001B[1;32mB:\\Projects\\PycharmProjects\\PPMI_Research_on_Parkinson's\\.venv\\Lib\\site-packages\\IPython\\core\\formatters.py:343\u001B[0m, in \u001B[0;36mBaseFormatter.__call__\u001B[1;34m(self, obj)\u001B[0m\n\u001B[0;32m    341\u001B[0m     \u001B[38;5;28;01mpass\u001B[39;00m\n\u001B[0;32m    342\u001B[0m \u001B[38;5;28;01melse\u001B[39;00m:\n\u001B[1;32m--> 343\u001B[0m     \u001B[38;5;28;01mreturn\u001B[39;00m \u001B[43mprinter\u001B[49m\u001B[43m(\u001B[49m\u001B[43mobj\u001B[49m\u001B[43m)\u001B[49m\n\u001B[0;32m    344\u001B[0m \u001B[38;5;66;03m# Finally look for special method names\u001B[39;00m\n\u001B[0;32m    345\u001B[0m method \u001B[38;5;241m=\u001B[39m get_real_method(obj, \u001B[38;5;28mself\u001B[39m\u001B[38;5;241m.\u001B[39mprint_method)\n",
      "File \u001B[1;32mB:\\Projects\\PycharmProjects\\PPMI_Research_on_Parkinson's\\.venv\\Lib\\site-packages\\IPython\\core\\pylabtools.py:152\u001B[0m, in \u001B[0;36mprint_figure\u001B[1;34m(fig, fmt, bbox_inches, base64, **kwargs)\u001B[0m\n\u001B[0;32m    149\u001B[0m     \u001B[38;5;28;01mfrom\u001B[39;00m \u001B[38;5;21;01mmatplotlib\u001B[39;00m\u001B[38;5;21;01m.\u001B[39;00m\u001B[38;5;21;01mbackend_bases\u001B[39;00m \u001B[38;5;28;01mimport\u001B[39;00m FigureCanvasBase\n\u001B[0;32m    150\u001B[0m     FigureCanvasBase(fig)\n\u001B[1;32m--> 152\u001B[0m \u001B[43mfig\u001B[49m\u001B[38;5;241;43m.\u001B[39;49m\u001B[43mcanvas\u001B[49m\u001B[38;5;241;43m.\u001B[39;49m\u001B[43mprint_figure\u001B[49m\u001B[43m(\u001B[49m\u001B[43mbytes_io\u001B[49m\u001B[43m,\u001B[49m\u001B[43m \u001B[49m\u001B[38;5;241;43m*\u001B[39;49m\u001B[38;5;241;43m*\u001B[39;49m\u001B[43mkw\u001B[49m\u001B[43m)\u001B[49m\n\u001B[0;32m    153\u001B[0m data \u001B[38;5;241m=\u001B[39m bytes_io\u001B[38;5;241m.\u001B[39mgetvalue()\n\u001B[0;32m    154\u001B[0m \u001B[38;5;28;01mif\u001B[39;00m fmt \u001B[38;5;241m==\u001B[39m \u001B[38;5;124m'\u001B[39m\u001B[38;5;124msvg\u001B[39m\u001B[38;5;124m'\u001B[39m:\n",
      "File \u001B[1;32mB:\\Projects\\PycharmProjects\\PPMI_Research_on_Parkinson's\\.venv\\Lib\\site-packages\\matplotlib\\backend_bases.py:2164\u001B[0m, in \u001B[0;36mFigureCanvasBase.print_figure\u001B[1;34m(self, filename, dpi, facecolor, edgecolor, orientation, format, bbox_inches, pad_inches, bbox_extra_artists, backend, **kwargs)\u001B[0m\n\u001B[0;32m   2161\u001B[0m     \u001B[38;5;66;03m# we do this instead of `self.figure.draw_without_rendering`\u001B[39;00m\n\u001B[0;32m   2162\u001B[0m     \u001B[38;5;66;03m# so that we can inject the orientation\u001B[39;00m\n\u001B[0;32m   2163\u001B[0m     \u001B[38;5;28;01mwith\u001B[39;00m \u001B[38;5;28mgetattr\u001B[39m(renderer, \u001B[38;5;124m\"\u001B[39m\u001B[38;5;124m_draw_disabled\u001B[39m\u001B[38;5;124m\"\u001B[39m, nullcontext)():\n\u001B[1;32m-> 2164\u001B[0m         \u001B[38;5;28;43mself\u001B[39;49m\u001B[38;5;241;43m.\u001B[39;49m\u001B[43mfigure\u001B[49m\u001B[38;5;241;43m.\u001B[39;49m\u001B[43mdraw\u001B[49m\u001B[43m(\u001B[49m\u001B[43mrenderer\u001B[49m\u001B[43m)\u001B[49m\n\u001B[0;32m   2165\u001B[0m \u001B[38;5;28;01mif\u001B[39;00m bbox_inches:\n\u001B[0;32m   2166\u001B[0m     \u001B[38;5;28;01mif\u001B[39;00m bbox_inches \u001B[38;5;241m==\u001B[39m \u001B[38;5;124m\"\u001B[39m\u001B[38;5;124mtight\u001B[39m\u001B[38;5;124m\"\u001B[39m:\n",
      "File \u001B[1;32mB:\\Projects\\PycharmProjects\\PPMI_Research_on_Parkinson's\\.venv\\Lib\\site-packages\\matplotlib\\artist.py:95\u001B[0m, in \u001B[0;36m_finalize_rasterization.<locals>.draw_wrapper\u001B[1;34m(artist, renderer, *args, **kwargs)\u001B[0m\n\u001B[0;32m     93\u001B[0m \u001B[38;5;129m@wraps\u001B[39m(draw)\n\u001B[0;32m     94\u001B[0m \u001B[38;5;28;01mdef\u001B[39;00m \u001B[38;5;21mdraw_wrapper\u001B[39m(artist, renderer, \u001B[38;5;241m*\u001B[39margs, \u001B[38;5;241m*\u001B[39m\u001B[38;5;241m*\u001B[39mkwargs):\n\u001B[1;32m---> 95\u001B[0m     result \u001B[38;5;241m=\u001B[39m \u001B[43mdraw\u001B[49m\u001B[43m(\u001B[49m\u001B[43martist\u001B[49m\u001B[43m,\u001B[49m\u001B[43m \u001B[49m\u001B[43mrenderer\u001B[49m\u001B[43m,\u001B[49m\u001B[43m \u001B[49m\u001B[38;5;241;43m*\u001B[39;49m\u001B[43margs\u001B[49m\u001B[43m,\u001B[49m\u001B[43m \u001B[49m\u001B[38;5;241;43m*\u001B[39;49m\u001B[38;5;241;43m*\u001B[39;49m\u001B[43mkwargs\u001B[49m\u001B[43m)\u001B[49m\n\u001B[0;32m     96\u001B[0m     \u001B[38;5;28;01mif\u001B[39;00m renderer\u001B[38;5;241m.\u001B[39m_rasterizing:\n\u001B[0;32m     97\u001B[0m         renderer\u001B[38;5;241m.\u001B[39mstop_rasterizing()\n",
      "File \u001B[1;32mB:\\Projects\\PycharmProjects\\PPMI_Research_on_Parkinson's\\.venv\\Lib\\site-packages\\matplotlib\\artist.py:72\u001B[0m, in \u001B[0;36mallow_rasterization.<locals>.draw_wrapper\u001B[1;34m(artist, renderer)\u001B[0m\n\u001B[0;32m     69\u001B[0m     \u001B[38;5;28;01mif\u001B[39;00m artist\u001B[38;5;241m.\u001B[39mget_agg_filter() \u001B[38;5;129;01mis\u001B[39;00m \u001B[38;5;129;01mnot\u001B[39;00m \u001B[38;5;28;01mNone\u001B[39;00m:\n\u001B[0;32m     70\u001B[0m         renderer\u001B[38;5;241m.\u001B[39mstart_filter()\n\u001B[1;32m---> 72\u001B[0m     \u001B[38;5;28;01mreturn\u001B[39;00m \u001B[43mdraw\u001B[49m\u001B[43m(\u001B[49m\u001B[43martist\u001B[49m\u001B[43m,\u001B[49m\u001B[43m \u001B[49m\u001B[43mrenderer\u001B[49m\u001B[43m)\u001B[49m\n\u001B[0;32m     73\u001B[0m \u001B[38;5;28;01mfinally\u001B[39;00m:\n\u001B[0;32m     74\u001B[0m     \u001B[38;5;28;01mif\u001B[39;00m artist\u001B[38;5;241m.\u001B[39mget_agg_filter() \u001B[38;5;129;01mis\u001B[39;00m \u001B[38;5;129;01mnot\u001B[39;00m \u001B[38;5;28;01mNone\u001B[39;00m:\n",
      "File \u001B[1;32mB:\\Projects\\PycharmProjects\\PPMI_Research_on_Parkinson's\\.venv\\Lib\\site-packages\\matplotlib\\figure.py:3143\u001B[0m, in \u001B[0;36mFigure.draw\u001B[1;34m(self, renderer)\u001B[0m\n\u001B[0;32m   3139\u001B[0m     \u001B[38;5;28;01mreturn\u001B[39;00m\n\u001B[0;32m   3141\u001B[0m \u001B[38;5;28;01mwith\u001B[39;00m \u001B[38;5;28mself\u001B[39m\u001B[38;5;241m.\u001B[39m_render_lock:\n\u001B[1;32m-> 3143\u001B[0m     artists \u001B[38;5;241m=\u001B[39m \u001B[38;5;28;43mself\u001B[39;49m\u001B[38;5;241;43m.\u001B[39;49m\u001B[43m_get_draw_artists\u001B[49m\u001B[43m(\u001B[49m\u001B[43mrenderer\u001B[49m\u001B[43m)\u001B[49m\n\u001B[0;32m   3144\u001B[0m     \u001B[38;5;28;01mtry\u001B[39;00m:\n\u001B[0;32m   3145\u001B[0m         renderer\u001B[38;5;241m.\u001B[39mopen_group(\u001B[38;5;124m'\u001B[39m\u001B[38;5;124mfigure\u001B[39m\u001B[38;5;124m'\u001B[39m, gid\u001B[38;5;241m=\u001B[39m\u001B[38;5;28mself\u001B[39m\u001B[38;5;241m.\u001B[39mget_gid())\n",
      "File \u001B[1;32mB:\\Projects\\PycharmProjects\\PPMI_Research_on_Parkinson's\\.venv\\Lib\\site-packages\\matplotlib\\figure.py:231\u001B[0m, in \u001B[0;36mFigureBase._get_draw_artists\u001B[1;34m(self, renderer)\u001B[0m\n\u001B[0;32m    229\u001B[0m \u001B[38;5;28;01mfor\u001B[39;00m ax \u001B[38;5;129;01min\u001B[39;00m \u001B[38;5;28mself\u001B[39m\u001B[38;5;241m.\u001B[39m_localaxes:\n\u001B[0;32m    230\u001B[0m     locator \u001B[38;5;241m=\u001B[39m ax\u001B[38;5;241m.\u001B[39mget_axes_locator()\n\u001B[1;32m--> 231\u001B[0m     \u001B[43max\u001B[49m\u001B[38;5;241;43m.\u001B[39;49m\u001B[43mapply_aspect\u001B[49m\u001B[43m(\u001B[49m\u001B[43mlocator\u001B[49m\u001B[43m(\u001B[49m\u001B[43max\u001B[49m\u001B[43m,\u001B[49m\u001B[43m \u001B[49m\u001B[43mrenderer\u001B[49m\u001B[43m)\u001B[49m\u001B[43m \u001B[49m\u001B[38;5;28;43;01mif\u001B[39;49;00m\u001B[43m \u001B[49m\u001B[43mlocator\u001B[49m\u001B[43m \u001B[49m\u001B[38;5;28;43;01melse\u001B[39;49;00m\u001B[43m \u001B[49m\u001B[38;5;28;43;01mNone\u001B[39;49;00m\u001B[43m)\u001B[49m\n\u001B[0;32m    233\u001B[0m     \u001B[38;5;28;01mfor\u001B[39;00m child \u001B[38;5;129;01min\u001B[39;00m ax\u001B[38;5;241m.\u001B[39mget_children():\n\u001B[0;32m    234\u001B[0m         \u001B[38;5;28;01mif\u001B[39;00m \u001B[38;5;28mhasattr\u001B[39m(child, \u001B[38;5;124m'\u001B[39m\u001B[38;5;124mapply_aspect\u001B[39m\u001B[38;5;124m'\u001B[39m):\n",
      "File \u001B[1;32mB:\\Projects\\PycharmProjects\\PPMI_Research_on_Parkinson's\\.venv\\Lib\\site-packages\\matplotlib\\axes\\_base.py:1902\u001B[0m, in \u001B[0;36m_AxesBase.apply_aspect\u001B[1;34m(self, position)\u001B[0m\n\u001B[0;32m   1872\u001B[0m \u001B[38;5;250m\u001B[39m\u001B[38;5;124;03m\"\"\"\u001B[39;00m\n\u001B[0;32m   1873\u001B[0m \u001B[38;5;124;03mAdjust the Axes for a specified data aspect ratio.\u001B[39;00m\n\u001B[0;32m   1874\u001B[0m \n\u001B[1;32m   (...)\u001B[0m\n\u001B[0;32m   1899\u001B[0m \u001B[38;5;124;03m    Set the position in case of extra space.\u001B[39;00m\n\u001B[0;32m   1900\u001B[0m \u001B[38;5;124;03m\"\"\"\u001B[39;00m\n\u001B[0;32m   1901\u001B[0m \u001B[38;5;28;01mif\u001B[39;00m position \u001B[38;5;129;01mis\u001B[39;00m \u001B[38;5;28;01mNone\u001B[39;00m:\n\u001B[1;32m-> 1902\u001B[0m     position \u001B[38;5;241m=\u001B[39m \u001B[38;5;28;43mself\u001B[39;49m\u001B[38;5;241;43m.\u001B[39;49m\u001B[43mget_position\u001B[49m\u001B[43m(\u001B[49m\u001B[43moriginal\u001B[49m\u001B[38;5;241;43m=\u001B[39;49m\u001B[38;5;28;43;01mTrue\u001B[39;49;00m\u001B[43m)\u001B[49m\n\u001B[0;32m   1904\u001B[0m aspect \u001B[38;5;241m=\u001B[39m \u001B[38;5;28mself\u001B[39m\u001B[38;5;241m.\u001B[39mget_aspect()\n\u001B[0;32m   1906\u001B[0m \u001B[38;5;28;01mif\u001B[39;00m aspect \u001B[38;5;241m==\u001B[39m \u001B[38;5;124m'\u001B[39m\u001B[38;5;124mauto\u001B[39m\u001B[38;5;124m'\u001B[39m \u001B[38;5;129;01mand\u001B[39;00m \u001B[38;5;28mself\u001B[39m\u001B[38;5;241m.\u001B[39m_box_aspect \u001B[38;5;129;01mis\u001B[39;00m \u001B[38;5;28;01mNone\u001B[39;00m:\n",
      "File \u001B[1;32mB:\\Projects\\PycharmProjects\\PPMI_Research_on_Parkinson's\\.venv\\Lib\\site-packages\\matplotlib\\axes\\_base.py:1091\u001B[0m, in \u001B[0;36m_AxesBase.get_position\u001B[1;34m(self, original)\u001B[0m\n\u001B[0;32m   1075\u001B[0m \u001B[38;5;250m\u001B[39m\u001B[38;5;124;03m\"\"\"\u001B[39;00m\n\u001B[0;32m   1076\u001B[0m \u001B[38;5;124;03mReturn the position of the Axes within the figure as a `.Bbox`.\u001B[39;00m\n\u001B[0;32m   1077\u001B[0m \n\u001B[1;32m   (...)\u001B[0m\n\u001B[0;32m   1088\u001B[0m \n\u001B[0;32m   1089\u001B[0m \u001B[38;5;124;03m\"\"\"\u001B[39;00m\n\u001B[0;32m   1090\u001B[0m \u001B[38;5;28;01mif\u001B[39;00m original:\n\u001B[1;32m-> 1091\u001B[0m     \u001B[38;5;28;01mreturn\u001B[39;00m \u001B[38;5;28;43mself\u001B[39;49m\u001B[38;5;241;43m.\u001B[39;49m\u001B[43m_originalPosition\u001B[49m\u001B[38;5;241;43m.\u001B[39;49m\u001B[43mfrozen\u001B[49m\u001B[43m(\u001B[49m\u001B[43m)\u001B[49m\n\u001B[0;32m   1092\u001B[0m \u001B[38;5;28;01melse\u001B[39;00m:\n\u001B[0;32m   1093\u001B[0m     locator \u001B[38;5;241m=\u001B[39m \u001B[38;5;28mself\u001B[39m\u001B[38;5;241m.\u001B[39mget_axes_locator()\n",
      "File \u001B[1;32mB:\\Projects\\PycharmProjects\\PPMI_Research_on_Parkinson's\\.venv\\Lib\\site-packages\\matplotlib\\transforms.py:790\u001B[0m, in \u001B[0;36mBbox.frozen\u001B[1;34m(self)\u001B[0m\n\u001B[0;32m    788\u001B[0m \u001B[38;5;28;01mdef\u001B[39;00m \u001B[38;5;21mfrozen\u001B[39m(\u001B[38;5;28mself\u001B[39m):\n\u001B[0;32m    789\u001B[0m     \u001B[38;5;66;03m# docstring inherited\u001B[39;00m\n\u001B[1;32m--> 790\u001B[0m     frozen_bbox \u001B[38;5;241m=\u001B[39m \u001B[38;5;28;43msuper\u001B[39;49m\u001B[43m(\u001B[49m\u001B[43m)\u001B[49m\u001B[38;5;241;43m.\u001B[39;49m\u001B[43mfrozen\u001B[49m\u001B[43m(\u001B[49m\u001B[43m)\u001B[49m\n\u001B[0;32m    791\u001B[0m     frozen_bbox\u001B[38;5;241m.\u001B[39m_minpos \u001B[38;5;241m=\u001B[39m \u001B[38;5;28mself\u001B[39m\u001B[38;5;241m.\u001B[39mminpos\u001B[38;5;241m.\u001B[39mcopy()\n\u001B[0;32m    792\u001B[0m     \u001B[38;5;28;01mreturn\u001B[39;00m frozen_bbox\n",
      "File \u001B[1;32mB:\\Projects\\PycharmProjects\\PPMI_Research_on_Parkinson's\\.venv\\Lib\\site-packages\\matplotlib\\transforms.py:236\u001B[0m, in \u001B[0;36mBboxBase.frozen\u001B[1;34m(self)\u001B[0m\n\u001B[0;32m    235\u001B[0m \u001B[38;5;28;01mdef\u001B[39;00m \u001B[38;5;21mfrozen\u001B[39m(\u001B[38;5;28mself\u001B[39m):\n\u001B[1;32m--> 236\u001B[0m     \u001B[38;5;28;01mreturn\u001B[39;00m \u001B[43mBbox\u001B[49m\u001B[43m(\u001B[49m\u001B[38;5;28;43mself\u001B[39;49m\u001B[38;5;241;43m.\u001B[39;49m\u001B[43mget_points\u001B[49m\u001B[43m(\u001B[49m\u001B[43m)\u001B[49m\u001B[38;5;241;43m.\u001B[39;49m\u001B[43mcopy\u001B[49m\u001B[43m(\u001B[49m\u001B[43m)\u001B[49m\u001B[43m)\u001B[49m\n",
      "File \u001B[1;32mB:\\Projects\\PycharmProjects\\PPMI_Research_on_Parkinson's\\.venv\\Lib\\site-packages\\matplotlib\\transforms.py:771\u001B[0m, in \u001B[0;36mBbox.__init__\u001B[1;34m(self, points, **kwargs)\u001B[0m\n\u001B[0;32m    768\u001B[0m     \u001B[38;5;28;01mraise\u001B[39;00m \u001B[38;5;167;01mValueError\u001B[39;00m(\u001B[38;5;124m'\u001B[39m\u001B[38;5;124mBbox points must be of the form \u001B[39m\u001B[38;5;124m'\u001B[39m\n\u001B[0;32m    769\u001B[0m                      \u001B[38;5;124m'\u001B[39m\u001B[38;5;124m\"\u001B[39m\u001B[38;5;124m[[x0, y0], [x1, y1]]\u001B[39m\u001B[38;5;124m\"\u001B[39m\u001B[38;5;124m.\u001B[39m\u001B[38;5;124m'\u001B[39m)\n\u001B[0;32m    770\u001B[0m \u001B[38;5;28mself\u001B[39m\u001B[38;5;241m.\u001B[39m_points \u001B[38;5;241m=\u001B[39m points\n\u001B[1;32m--> 771\u001B[0m \u001B[38;5;28mself\u001B[39m\u001B[38;5;241m.\u001B[39m_minpos \u001B[38;5;241m=\u001B[39m \u001B[43m_default_minpos\u001B[49m\u001B[38;5;241;43m.\u001B[39;49m\u001B[43mcopy\u001B[49m\u001B[43m(\u001B[49m\u001B[43m)\u001B[49m\n\u001B[0;32m    772\u001B[0m \u001B[38;5;28mself\u001B[39m\u001B[38;5;241m.\u001B[39m_ignore \u001B[38;5;241m=\u001B[39m \u001B[38;5;28;01mTrue\u001B[39;00m\n\u001B[0;32m    773\u001B[0m \u001B[38;5;66;03m# it is helpful in some contexts to know if the bbox is a\u001B[39;00m\n\u001B[0;32m    774\u001B[0m \u001B[38;5;66;03m# default or has been mutated; we store the orig points to\u001B[39;00m\n\u001B[0;32m    775\u001B[0m \u001B[38;5;66;03m# support the mutated methods\u001B[39;00m\n",
      "\u001B[1;31mKeyboardInterrupt\u001B[0m: "
     ]
    }
   ],
   "source": [
    "def plot_pair_plots(data, features, pdf_filename):\n",
    "    \"\"\"\n",
    "    Generate pair plots for selected features and save them to a PDF.\n",
    "\n",
    "    Parameters:\n",
    "    - data (DataFrame): The input DataFrame containing the dataset.\n",
    "    - features (list): List of features (columns) in the dataset to plot in pair plots.\n",
    "    - pdf_filename (str): File name for the PDF to save the plots.\n",
    "    \"\"\"\n",
    "    sns.set(style=\"ticks\")\n",
    "    pair_plot_data = data.loc[:, features + ['VisitNumber']]\n",
    "\n",
    "    with PdfPages(pdf_filename) as pdf:\n",
    "        sns.pairplot(pair_plot_data, hue='VisitNumber')\n",
    "        pdf.savefig()\n",
    "        plt.close()\n",
    "        print(f\"PDF saved successfully: {pdf_filename}\")\n",
    "        \n",
    "print('Working with pair plots')\n",
    "plot_pair_plots(data, features, os.path.join(output_dir, \"pair_plots.pdf\"))"
   ],
   "metadata": {
    "collapsed": false,
    "ExecuteTime": {
     "end_time": "2024-06-22T13:24:49.237187Z",
     "start_time": "2024-06-22T13:22:53.850200Z"
    }
   },
   "id": "89122a8ace6bd311",
   "execution_count": 16
  },
  {
   "cell_type": "code",
   "outputs": [
    {
     "name": "stdout",
     "output_type": "stream",
     "text": [
      "Working with pca biplots\n",
      "PDF saved successfully: plots\\pca_biplots.pdf\n"
     ]
    }
   ],
   "source": [
    "def plot_pca_biplots(data, features, pdf_filename):\n",
    "    \"\"\"\n",
    "    Generate PCA biplots for selected features and save them to a PDF.\n",
    "\n",
    "    Parameters:\n",
    "    - data (DataFrame): The input DataFrame containing the dataset.\n",
    "    - features (list): List of features (columns) in the dataset to use for PCA.\n",
    "    - pdf_filename (str): File name for the PDF to save the plots.\n",
    "    \"\"\"\n",
    "    pca = PCA(n_components=2)\n",
    "    pca_data = data[features].dropna()\n",
    "    pca_components = pca.fit_transform(pca_data)\n",
    "\n",
    "    with PdfPages(pdf_filename) as pdf:\n",
    "        plt.figure(figsize=(10, 6))\n",
    "        plt.scatter(pca_components[:, 0], pca_components[:, 1], c=data['VisitNumber'], cmap='viridis')\n",
    "        plt.title('PCA Biplots')\n",
    "        plt.xlabel('Principal Component 1')\n",
    "        plt.ylabel('Principal Component 2')\n",
    "        pdf.savefig()\n",
    "        plt.close()\n",
    "        print(f\"PDF saved successfully: {pdf_filename}\")\n",
    "        \n",
    "print('Working with pca biplots')\n",
    "plot_pca_biplots(data, features, os.path.join(output_dir, \"pca_biplots.pdf\"))"
   ],
   "metadata": {
    "collapsed": false,
    "ExecuteTime": {
     "end_time": "2024-06-22T13:21:55.439799Z",
     "start_time": "2024-06-22T13:21:55.315526Z"
    }
   },
   "id": "8afac91478df1ed1",
   "execution_count": 12
  },
  {
   "cell_type": "code",
   "outputs": [
    {
     "name": "stdout",
     "output_type": "stream",
     "text": [
      "Generating time series plots for all features...\n",
      "PDF saved successfully: plots\\time_series_plots.pdf\n"
     ]
    }
   ],
   "source": [
    "def plot_time_series_plots(data, time_col, group_col, pdf_filename):\n",
    "    print(\"Generating time series plots for all features...\")\n",
    "    with PdfPages(pdf_filename) as pdf:\n",
    "        features = [col for col in data.columns if col not in [time_col, group_col, 'Patient ID', 'EVENT_ID']]\n",
    "        for feature in features:\n",
    "            for group in data[group_col].unique():\n",
    "                group_data = data[data[group_col] == group]\n",
    "                plt.figure(figsize=(10, 6))\n",
    "                plt.plot(group_data[time_col], group_data[feature], marker='o', linestyle='-')\n",
    "                plt.title(f'Time Series Plot of {feature} for Visit {group}')\n",
    "                plt.xlabel(time_col)\n",
    "                plt.ylabel(feature)\n",
    "                pdf.savefig()\n",
    "                plt.close()\n",
    "    print(f\"PDF saved successfully: {pdf_filename}\")\n",
    "\n",
    "# Call the function\n",
    "plot_time_series_plots(data, 'Visit Date', 'VisitNumber', os.path.join(output_dir, \"time_series_plots.pdf\"))\n"
   ],
   "metadata": {
    "collapsed": false,
    "ExecuteTime": {
     "end_time": "2024-06-22T13:22:20.133303Z",
     "start_time": "2024-06-22T13:21:55.440872Z"
    }
   },
   "id": "729fef6cecdaa1e3",
   "execution_count": 13
  },
  {
   "cell_type": "code",
   "outputs": [
    {
     "name": "stdout",
     "output_type": "stream",
     "text": [
      "Generating area plots for all features...\n",
      "PDF saved successfully: plots\\area_plots.pdf\n"
     ]
    }
   ],
   "source": [
    "def plot_area_plots(data, time_col, group_col, pdf_filename):\n",
    "    print(\"Generating area plots for all features...\")\n",
    "    with PdfPages(pdf_filename) as pdf:\n",
    "        features = [col for col in data.columns if col not in [time_col, group_col, 'Patient ID', 'EVENT_ID']]\n",
    "        for feature in features:\n",
    "            for group in data[group_col].unique():\n",
    "                group_data = data[data[group_col] == group]\n",
    "                plt.figure(figsize=(10, 6))\n",
    "                plt.fill_between(group_data[time_col], group_data[feature], alpha=0.5)\n",
    "                plt.plot(group_data[time_col], group_data[feature], marker='', linestyle='-')\n",
    "                plt.title(f'Area Plot of {feature} for Visit {group}')\n",
    "                plt.xlabel(time_col)\n",
    "                plt.ylabel(feature)\n",
    "                pdf.savefig()\n",
    "                plt.close()\n",
    "    print(f\"PDF saved successfully: {pdf_filename}\")\n",
    "\n",
    "# Call the function\n",
    "plot_area_plots(data, 'Visit Date', 'VisitNumber', os.path.join(output_dir, \"area_plots.pdf\"))\n"
   ],
   "metadata": {
    "collapsed": false,
    "ExecuteTime": {
     "end_time": "2024-06-22T13:22:43.517494Z",
     "start_time": "2024-06-22T13:22:20.134406Z"
    }
   },
   "id": "88b03335e06bfda9",
   "execution_count": 14
  },
  {
   "cell_type": "code",
   "outputs": [
    {
     "name": "stdout",
     "output_type": "stream",
     "text": [
      "Generating ridgeline plots for all features...\n",
      "PDF saved successfully: plots\\ridgeline_plots.pdf\n"
     ]
    }
   ],
   "source": [
    "def plot_ridgeline_plots(data, time_col, group_col, pdf_filename):\n",
    "    print(\"Generating ridgeline plots for all features...\")\n",
    "    with PdfPages(pdf_filename) as pdf:\n",
    "        features = [col for col in data.columns if col not in [time_col, group_col, 'Patient ID', 'EVENT_ID']]\n",
    "        for feature in features:\n",
    "            plt.figure(figsize=(10, 6))\n",
    "            sns.kdeplot(data=data, x=time_col, hue=group_col, fill=True)\n",
    "            plt.title(f'Ridgeline Plot of {feature} Over {time_col} by {group_col}')\n",
    "            plt.xlabel(time_col)\n",
    "            plt.ylabel(feature)\n",
    "            pdf.savefig()\n",
    "            plt.close()\n",
    "    print(f\"PDF saved successfully: {pdf_filename}\")\n",
    "\n",
    "# Call the function\n",
    "plot_ridgeline_plots(data, 'Visit Date', 'VisitNumber', os.path.join(output_dir, \"ridgeline_plots.pdf\"))\n"
   ],
   "metadata": {
    "collapsed": false,
    "ExecuteTime": {
     "end_time": "2024-06-22T13:22:53.849100Z",
     "start_time": "2024-06-22T13:22:43.518503Z"
    }
   },
   "id": "f01082d262df4cad",
   "execution_count": 15
  },
  {
   "cell_type": "code",
   "outputs": [],
   "source": [
    "\n",
    "def plot_kaplan_meier_plots(data, event_col, time_col, group_col, pdf_filename):\n",
    "    \"\"\"\n",
    "    Generate Kaplan-Meier plots for survival analysis and save them to a PDF.\n",
    "\n",
    "    Parameters:\n",
    "    - data (DataFrame): The input DataFrame containing the survival data.\n",
    "    - event_col (str): Column name indicating the event/censorship status.\n",
    "    - time_col (str): Column name indicating the survival time.\n",
    "    - group_col (str): Column name indicating the group/category.\n",
    "    - pdf_filename (str): File name for the PDF to save the plots.\n",
    "    \"\"\"\n",
    "    from lifelines import KaplanMeierFitter\n",
    "    from matplotlib.backends.backend_pdf import PdfPages\n",
    "    \n",
    "    kmf = KaplanMeierFitter()\n",
    "\n",
    "    with PdfPages(pdf_filename) as pdf:\n",
    "        plt.figure(figsize=(10, 6))\n",
    "        for group in data[group_col].unique():\n",
    "            group_data = data[data[group_col] == group]\n",
    "            kmf.fit(group_data[time_col], event_observed=group_data[event_col], label=group)\n",
    "            kmf.plot()\n",
    "        plt.title('Kaplan-Meier Survival Curves')\n",
    "        plt.xlabel('Time')\n",
    "        plt.ylabel('Survival Probability')\n",
    "        pdf.savefig()\n",
    "        plt.close()\n",
    "        print(f\"PDF saved successfully: {pdf_filename}\")\n",
    "\n",
    "# Ensure you pass the correct column names when calling the function\n",
    "plot_kaplan_meier_plots(data, 'EVENT_ID', 'Time', 'Group', \"kaplan_meier_plots.pdf\")"
   ],
   "metadata": {
    "collapsed": false,
    "is_executing": true
   },
   "id": "f5d0d29fdb76b4c6",
   "execution_count": null
  }
 ],
 "metadata": {
  "kernelspec": {
   "display_name": "Python 3",
   "language": "python",
   "name": "python3"
  },
  "language_info": {
   "codemirror_mode": {
    "name": "ipython",
    "version": 2
   },
   "file_extension": ".py",
   "mimetype": "text/x-python",
   "name": "python",
   "nbconvert_exporter": "python",
   "pygments_lexer": "ipython2",
   "version": "2.7.6"
  }
 },
 "nbformat": 4,
 "nbformat_minor": 5
}
