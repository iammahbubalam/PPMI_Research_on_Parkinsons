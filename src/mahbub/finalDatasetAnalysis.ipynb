{
 "cells": [
  {
   "cell_type": "code",
   "execution_count": 1,
   "id": "34825f520d015b47",
   "metadata": {
    "ExecuteTime": {
     "end_time": "2024-06-22T13:19:37.727489Z",
     "start_time": "2024-06-22T13:19:37.706637Z"
    },
    "collapsed": false
   },
   "outputs": [
    {
     "name": "stdout",
     "output_type": "stream",
     "text": [
      "Rows with null values in B:\\Projects\\PycharmProjects\\PPMI_Research_on_Parkinson's\\src\\mahbub\\ppmi_master_dataset.csv:\n",
      "Patient ID: 3059, Visit Date: 28/02/2012, Null Columns Count: 2\n",
      "Patient ID: 3078, Visit Date: 26/04/2016, Null Columns Count: 25\n",
      "Patient ID: 3105, Visit Date: 10/08/2011, Null Columns Count: 63\n",
      "Patient ID: 3105, Visit Date: 17/04/2012, Null Columns Count: 63\n",
      "Patient ID: 3105, Visit Date: 19/04/2013, Null Columns Count: 63\n",
      "Patient ID: 3105, Visit Date: 31/03/2015, Null Columns Count: 63\n",
      "Patient ID: 3168, Visit Date: 09/10/2012, Null Columns Count: 1\n",
      "Patient ID: 3168, Visit Date: 27/08/2013, Null Columns Count: 1\n",
      "Patient ID: 3212, Visit Date: 14/07/2011, Null Columns Count: 63\n",
      "Patient ID: 3212, Visit Date: 27/06/2012, Null Columns Count: 63\n",
      "Patient ID: 3212, Visit Date: 26/07/2013, Null Columns Count: 63\n",
      "Patient ID: 3212, Visit Date: 22/07/2015, Null Columns Count: 63\n",
      "Patient ID: 3323, Visit Date: 06/06/2012, Null Columns Count: 1\n",
      "Patient ID: 3323, Visit Date: 10/08/2016, Null Columns Count: 1\n",
      "Patient ID: 3372, Visit Date: 27/04/2016, Null Columns Count: 25\n",
      "Patient ID: 3378, Visit Date: 19/05/2016, Null Columns Count: 25\n",
      "Patient ID: 4070, Visit Date: 16/05/2012, Null Columns Count: 5\n",
      "Patient ID: 4092, Visit Date: 04/06/2014, Null Columns Count: 25\n",
      "Patient ID: 103813, Visit Date: 26/08/2021, Null Columns Count: 12\n"
     ]
    }
   ],
   "source": [
    "import pandas as pd\n",
    "from tabulate import tabulate\n",
    "\n",
    "def print_null_columns_info(file_path):\n",
    "    # Read the CSV file\n",
    "    df = pd.read_csv(file_path)\n",
    "    \n",
    "    # Find rows with any null values\n",
    "    rows_with_nulls = df[df.isnull().any(axis=1)]\n",
    "    \n",
    "    # Print patient ID, visit date, and count of null columns\n",
    "    if not rows_with_nulls.empty:\n",
    "        print(f\"Rows with null values in {file_path}:\")\n",
    "        for index, row in rows_with_nulls.iterrows():\n",
    "            null_columns_count = row.isnull().sum()\n",
    "            patient_id = row['Patient ID']\n",
    "            visit_date = row['Visit Date']\n",
    "            print(f\"Patient ID: {patient_id}, Visit Date: {visit_date}, Null Columns Count: {null_columns_count}\")\n",
    "    else:\n",
    "        print(f\"No rows with null values in {file_path}.\")\n",
    "\n",
    "# Example usage\n",
    "file_path = r\"B:\\Projects\\PycharmProjects\\PPMI_Research_on_Parkinson's\\src\\mahbub\\ppmi_master_dataset.csv\"\n",
    "print_null_columns_info(file_path)\n"
   ]
  },
  {
   "cell_type": "code",
   "execution_count": 2,
   "id": "9db62891ce91fe76",
   "metadata": {
    "ExecuteTime": {
     "end_time": "2024-06-22T13:19:38.601728Z",
     "start_time": "2024-06-22T13:19:37.980961Z"
    },
    "collapsed": false
   },
   "outputs": [],
   "source": [
    "import pandas as pd\n",
    "import matplotlib.pyplot as plt\n",
    "import seaborn as sns\n",
    "from matplotlib.backends.backend_pdf import PdfPages\n",
    "from sklearn.decomposition import PCA\n",
    "from lifelines import KaplanMeierFitter\n",
    "import os"
   ]
  },
  {
   "cell_type": "code",
   "execution_count": 3,
   "id": "783197e2fc51b519",
   "metadata": {
    "ExecuteTime": {
     "end_time": "2024-06-22T13:19:39.171478Z",
     "start_time": "2024-06-22T13:19:39.167796Z"
    },
    "collapsed": false
   },
   "outputs": [],
   "source": [
    "def preprocess_data(file_path):\n",
    "    data = pd.read_csv(file_path)\n",
    "    data['Visit Date'] = pd.to_datetime(data['Visit Date'], dayfirst=True)\n",
    "    data = data.sort_values(by=['Patient ID', 'Visit Date'])\n",
    "    data.fillna(data.mode().iloc[0], inplace=True)\n",
    "    data['VisitNumber'] = data.groupby('Patient ID').cumcount() + 1\n",
    "    non_feature_columns = ['Patient ID', 'Visit Date', 'VisitNumber', 'EVENT_ID']\n",
    "    features = [col for col in data.columns if col not in non_feature_columns]\n",
    "    return data, features"
   ]
  },
  {
   "cell_type": "code",
   "execution_count": 4,
   "id": "c5ba9bf2648cd774",
   "metadata": {
    "ExecuteTime": {
     "end_time": "2024-06-22T13:19:40.386425Z",
     "start_time": "2024-06-22T13:19:40.295607Z"
    },
    "collapsed": false
   },
   "outputs": [],
   "source": [
    "if __name__ == \"__main__\":\n",
    "    file_path = r\"B:\\Projects\\PycharmProjects\\PPMI_Research_on_Parkinson's\\src\\mahbub\\ppmi_master_dataset.csv\"\n",
    "    data,features = preprocess_data(file_path)\n",
    "      \n",
    "    # Save the preprocessed data to a CSV file\n",
    "    data.to_csv('preprocessed_ppmi_master_dataset.csv', index=False)\n",
    "    output_dir = \"plots\"\n",
    "\n",
    "    # Ensure the output directory exists or create it\n",
    "    os.makedirs(output_dir, exist_ok=True)"
   ]
  },
  {
   "cell_type": "code",
   "execution_count": 5,
   "id": "22877d4a0048d23c",
   "metadata": {
    "ExecuteTime": {
     "end_time": "2024-06-22T13:20:16.550871Z",
     "start_time": "2024-06-22T13:19:44.121952Z"
    },
    "collapsed": false
   },
   "outputs": [
    {
     "name": "stdout",
     "output_type": "stream",
     "text": [
      "Working with line plot\n",
      "PDF saved successfully: plots\\line_plots.pdf\n"
     ]
    }
   ],
   "source": [
    "\n",
    "def plot_line_plots(data, features, pdf_filename):\n",
    "    \"\"\"\n",
    "    Generate line plots for each feature across four visits and save them to a PDF.\n",
    "\n",
    "    Parameters:\n",
    "    - data (DataFrame): The input DataFrame containing the dataset.\n",
    "    - features (list): List of features (columns) in the dataset to plot.\n",
    "    - pdf_filename (str): File name for the PDF to save the plots.\n",
    "    \"\"\"\n",
    "    with PdfPages(pdf_filename) as pdf:\n",
    "        for feature in features:\n",
    "            fig, axes = plt.subplots(1, 4, figsize=(20, 5))  # Create subplots for 4 visits\n",
    "            \n",
    "            for visit in range(1, 5):\n",
    "                ax = axes[visit - 1]  # Select the current subplot\n",
    "                visit_data = data[data['VisitNumber'] == visit][feature]\n",
    "                ax.plot(visit_data)\n",
    "                ax.set_title(f'Visit {visit}')\n",
    "                ax.set_xlabel('Observation')\n",
    "                ax.set_ylabel(feature)\n",
    "                ax.legend([f'Visit {visit}'])\n",
    "            \n",
    "            fig.suptitle(f'Line Plot of {feature} Across Visits', y=1.05)\n",
    "            fig.tight_layout()\n",
    "            pdf.savefig()\n",
    "            plt.close()\n",
    "\n",
    "        print(f\"PDF saved successfully: {pdf_filename}\")\n",
    "\n",
    "print('Working with line plot')\n",
    "plot_line_plots(data, features, os.path.join(output_dir, \"line_plots.pdf\"))\n"
   ]
  },
  {
   "cell_type": "code",
   "execution_count": 6,
   "id": "e4238e6ea403f8a6",
   "metadata": {
    "ExecuteTime": {
     "end_time": "2024-06-22T13:20:50.165582Z",
     "start_time": "2024-06-22T13:20:16.551878Z"
    },
    "collapsed": false
   },
   "outputs": [
    {
     "name": "stdout",
     "output_type": "stream",
     "text": [
      "Working with scatter plot\n",
      "PDF saved successfully: plots\\scatter_plots.pdf\n"
     ]
    }
   ],
   "source": [
    "def plot_scatter_plots(data, features, pdf_filename):\n",
    "    \"\"\"\n",
    "    Generate scatter plots for pairs of features between consecutive visits and save them to a PDF.\n",
    "\n",
    "    Parameters:\n",
    "    - data (DataFrame): The input DataFrame containing the dataset.\n",
    "    - features (list): List of features (columns) in the dataset to plot.\n",
    "    - pdf_filename (str): File name for the PDF to save the plots.\n",
    "    \"\"\"\n",
    "    with PdfPages(pdf_filename) as pdf:\n",
    "        for feature in features:\n",
    "            fig, axes = plt.subplots(1, 3, figsize=(18, 5))  # Create subplots for 3 pairs (1-2, 2-3, 3-4)\n",
    "\n",
    "            for i, visit in enumerate(range(1, 4)):\n",
    "                ax = axes[i]  # Select the current subplot\n",
    "                visit_data_x = data[data['VisitNumber'] == visit][feature]\n",
    "                visit_data_y = data[data['VisitNumber'] == visit + 1][feature]\n",
    "                ax.scatter(visit_data_x, visit_data_y, label=f'Visit {visit}-{visit + 1}')\n",
    "                ax.set_title(f'Scatter Plot of {feature} Between Visits {visit} and {visit + 1}')\n",
    "                ax.set_xlabel(f'Visit {visit}')\n",
    "                ax.set_ylabel(f'Visit {visit + 1}')\n",
    "                ax.legend()\n",
    "\n",
    "            fig.suptitle(f'Scatter Plots of {feature} Between Consecutive Visits', y=1.05)\n",
    "            fig.tight_layout()\n",
    "\n",
    "            # Save the figure with all three subplots to the PDF\n",
    "            pdf.savefig()\n",
    "            plt.close()\n",
    "\n",
    "        print(f\"PDF saved successfully: {pdf_filename}\")\n",
    "        \n",
    "print('Working with scatter plot')\n",
    "plot_scatter_plots(data, features, os.path.join(output_dir, \"scatter_plots.pdf\"))\n"
   ]
  },
  {
   "cell_type": "code",
   "execution_count": 7,
   "id": "5ed8c5ce60c131db",
   "metadata": {
    "ExecuteTime": {
     "end_time": "2024-06-22T13:20:56.605803Z",
     "start_time": "2024-06-22T13:20:50.165582Z"
    },
    "collapsed": false
   },
   "outputs": [
    {
     "name": "stdout",
     "output_type": "stream",
     "text": [
      "Working with box plot\n",
      "PDF saved successfully: plots\\box_plots.pdf\n"
     ]
    }
   ],
   "source": [
    "\n",
    "def plot_box_plots(data, features, pdf_filename):\n",
    "    \"\"\"\n",
    "    Generate box plots for each feature across all visits and save them to a PDF.\n",
    "\n",
    "    Parameters:\n",
    "    - data (DataFrame): The input DataFrame containing the dataset.\n",
    "    - features (list): List of features (columns) in the dataset to plot.\n",
    "    - pdf_filename (str): File name for the PDF to save the plots.\n",
    "    \"\"\"\n",
    "    with PdfPages(pdf_filename) as pdf:\n",
    "        for feature in features:\n",
    "            plt.figure(figsize=(10, 6))\n",
    "            sns.boxplot(x='VisitNumber', y=feature, data=data)\n",
    "            plt.title(f'Box Plot of {feature} Across Visits')\n",
    "            plt.xlabel('Visit Number')\n",
    "            plt.ylabel(feature)\n",
    "            pdf.savefig()\n",
    "            plt.close()\n",
    "        print(f\"PDF saved successfully: {pdf_filename}\")\n",
    "\n",
    "print('Working with box plot')\n",
    "plot_box_plots(data, features, os.path.join(output_dir, \"box_plots.pdf\"))\n"
   ]
  },
  {
   "cell_type": "code",
   "execution_count": 8,
   "id": "cd892ac0b74de3a2",
   "metadata": {
    "ExecuteTime": {
     "end_time": "2024-06-22T13:21:02.543252Z",
     "start_time": "2024-06-22T13:20:56.606858Z"
    },
    "collapsed": false
   },
   "outputs": [
    {
     "name": "stdout",
     "output_type": "stream",
     "text": [
      "Working with violin plot\n",
      "PDF saved successfully: plots\\violin_plots.pdf\n"
     ]
    }
   ],
   "source": [
    "def plot_violin_plots(data, features, pdf_filename):\n",
    "    \"\"\"\n",
    "    Generate violin plots for each feature across all visits and save them to a PDF.\n",
    "\n",
    "    Parameters:\n",
    "    - data (DataFrame): The input DataFrame containing the dataset.\n",
    "    - features (list): List of features (columns) in the dataset to plot.\n",
    "    - pdf_filename (str): File name for the PDF to save the plots.\n",
    "    \"\"\"\n",
    "    with PdfPages(pdf_filename) as pdf:\n",
    "        for feature in features:\n",
    "            plt.figure(figsize=(10, 6))\n",
    "            sns.violinplot(x='VisitNumber', y=feature, data=data)\n",
    "            plt.title(f'Violin Plot of {feature} Across Visits')\n",
    "            plt.xlabel('Visit Number')\n",
    "            plt.ylabel(feature)\n",
    "            pdf.savefig()\n",
    "            plt.close()\n",
    "        print(f\"PDF saved successfully: {pdf_filename}\")\n",
    "\n",
    "print('Working with violin plot')\n",
    "plot_violin_plots(data, features, os.path.join(output_dir, \"violin_plots.pdf\"))\n"
   ]
  },
  {
   "cell_type": "code",
   "execution_count": 9,
   "id": "24e7fd7a7ac3e640",
   "metadata": {
    "ExecuteTime": {
     "end_time": "2024-06-22T13:21:42.092972Z",
     "start_time": "2024-06-22T13:21:02.544262Z"
    },
    "collapsed": false
   },
   "outputs": [
    {
     "name": "stdout",
     "output_type": "stream",
     "text": [
      "Working with histograms\n",
      "PDF saved successfully: plots\\histograms.pdf\n"
     ]
    }
   ],
   "source": [
    "def plot_histograms(data, features, pdf_filename):\n",
    "    \"\"\"\n",
    "    Generate histograms for each feature across all visits and save them to a PDF.\n",
    "\n",
    "    Parameters:\n",
    "    - data (DataFrame): The input DataFrame containing the dataset.\n",
    "    - features (list): List of features (columns) in the dataset to plot.\n",
    "    - pdf_filename (str): File name for the PDF to save the plots.\n",
    "    \"\"\"\n",
    "    with PdfPages(pdf_filename) as pdf:\n",
    "        for feature in features:\n",
    "            fig, axes = plt.subplots(1, 4, figsize=(20, 5))  # Create subplots for 4 visits\n",
    "            \n",
    "            for visit in range(1, 5):\n",
    "                ax = axes[visit - 1]  # Select the current subplot\n",
    "                visit_data = data[data['VisitNumber'] == visit][feature]\n",
    "                ax.hist(visit_data, bins=20, alpha=0.5, label=f'Visit {visit}')\n",
    "                ax.set_title(f'Histogram of {feature}, Visit {visit}')\n",
    "                ax.set_xlabel(feature)\n",
    "                ax.set_ylabel('Frequency')\n",
    "                ax.legend()\n",
    "\n",
    "            fig.suptitle(f'Histograms of {feature} Across Visits', y=1.05)\n",
    "            fig.tight_layout()\n",
    "\n",
    "            # Save the figure with all four subplots to the PDF\n",
    "            pdf.savefig()\n",
    "            plt.close()\n",
    "\n",
    "        print(f\"PDF saved successfully: {pdf_filename}\")\n",
    "\n",
    "print('Working with histograms')\n",
    "plot_histograms(data, features, os.path.join(output_dir, \"histograms.pdf\"))\n",
    "\n"
   ]
  },
  {
   "cell_type": "code",
   "execution_count": 10,
   "id": "e3e985534997a685",
   "metadata": {
    "ExecuteTime": {
     "end_time": "2024-06-22T13:21:50.278901Z",
     "start_time": "2024-06-22T13:21:42.092972Z"
    },
    "collapsed": false
   },
   "outputs": [
    {
     "name": "stdout",
     "output_type": "stream",
     "text": [
      "Working with density_plots\n"
     ]
    },
    {
     "name": "stderr",
     "output_type": "stream",
     "text": [
      "C:\\Users\\bubha\\AppData\\Local\\Temp\\ipykernel_4960\\2272004873.py:15: UserWarning: Dataset has 0 variance; skipping density estimate. Pass `warn_singular=False` to disable this warning.\n",
      "  sns.kdeplot(visit_data, label=f'Visit {visit}')\n",
      "C:\\Users\\bubha\\AppData\\Local\\Temp\\ipykernel_4960\\2272004873.py:15: UserWarning: Dataset has 0 variance; skipping density estimate. Pass `warn_singular=False` to disable this warning.\n",
      "  sns.kdeplot(visit_data, label=f'Visit {visit}')\n",
      "C:\\Users\\bubha\\AppData\\Local\\Temp\\ipykernel_4960\\2272004873.py:15: UserWarning: Dataset has 0 variance; skipping density estimate. Pass `warn_singular=False` to disable this warning.\n",
      "  sns.kdeplot(visit_data, label=f'Visit {visit}')\n",
      "C:\\Users\\bubha\\AppData\\Local\\Temp\\ipykernel_4960\\2272004873.py:15: UserWarning: Dataset has 0 variance; skipping density estimate. Pass `warn_singular=False` to disable this warning.\n",
      "  sns.kdeplot(visit_data, label=f'Visit {visit}')\n",
      "C:\\Users\\bubha\\AppData\\Local\\Temp\\ipykernel_4960\\2272004873.py:15: UserWarning: Dataset has 0 variance; skipping density estimate. Pass `warn_singular=False` to disable this warning.\n",
      "  sns.kdeplot(visit_data, label=f'Visit {visit}')\n",
      "No artists with labels found to put in legend.  Note that artists whose label start with an underscore are ignored when legend() is called with no argument.\n"
     ]
    },
    {
     "name": "stdout",
     "output_type": "stream",
     "text": [
      "PDF saved successfully: plots\\density_plots.pdf\n"
     ]
    }
   ],
   "source": [
    "def plot_density_plots(data, features, pdf_filename):\n",
    "    \"\"\"\n",
    "    Generate probability density function (PDF) plots for each feature across all visits and save them to a PDF.\n",
    "\n",
    "    Parameters:\n",
    "    - data (DataFrame): The input DataFrame containing the dataset.\n",
    "    - features (list): List of features (columns) in the dataset to plot.\n",
    "    - pdf_filename (str): File name for the PDF to save the plots.\n",
    "    \"\"\"\n",
    "    with PdfPages(pdf_filename) as pdf:\n",
    "        for feature in features:\n",
    "            plt.figure(figsize=(10, 6))\n",
    "            for visit in range(1, 5):\n",
    "                visit_data = data[data['VisitNumber'] == visit][feature]\n",
    "                sns.kdeplot(visit_data, label=f'Visit {visit}')\n",
    "            plt.title(f'Probability Density Function (PDF) of {feature} Across Visits')\n",
    "            plt.xlabel(feature)\n",
    "            plt.ylabel('Density')\n",
    "            plt.legend()\n",
    "            pdf.savefig()\n",
    "            plt.close()\n",
    "        print(f\"PDF saved successfully: {pdf_filename}\")\n",
    "        \n",
    "print('Working with density_plots')\n",
    "plot_density_plots(data, features, os.path.join(output_dir, \"density_plots.pdf\"))\n"
   ]
  },
  {
   "cell_type": "code",
   "execution_count": 11,
   "id": "5fb905b571d287ec",
   "metadata": {
    "ExecuteTime": {
     "end_time": "2024-06-22T13:21:55.314520Z",
     "start_time": "2024-06-22T13:21:50.278901Z"
    },
    "collapsed": false
   },
   "outputs": [
    {
     "name": "stdout",
     "output_type": "stream",
     "text": [
      "Working with heatmaps\n",
      "PDF saved successfully: plots\\heatmaps.pdf\n"
     ]
    }
   ],
   "source": [
    "def plot_heatmaps(data, features, pdf_filename):\n",
    "    \"\"\"\n",
    "    Generate heatmaps for selected features and save them to a PDF.\n",
    "\n",
    "    Parameters:\n",
    "    - data (DataFrame): The input DataFrame containing the dataset.\n",
    "    - features (list): List of features (columns) in the dataset to plot as heatmap.\n",
    "    - pdf_filename (str): File name for the PDF to save the plots.\n",
    "    \"\"\"\n",
    "    # Compute correlation matrix\n",
    "    corr_matrix = data[features].corr()\n",
    "\n",
    "    with PdfPages(pdf_filename) as pdf:\n",
    "        plt.figure(figsize=(50, 40))\n",
    "        sns.heatmap(corr_matrix, annot=True, cmap='coolwarm', vmin=-1, vmax=1)\n",
    "        plt.title('Correlation Matrix Heatmap')\n",
    "        pdf.savefig()\n",
    "        plt.close()\n",
    "        print(f\"PDF saved successfully: {pdf_filename}\")\n",
    "        \n",
    "print('Working with heatmaps')\n",
    "plot_heatmaps(data, features, os.path.join(output_dir, \"heatmaps.pdf\"))"
   ]
  },
  {
   "cell_type": "code",
   "execution_count": null,
   "id": "89122a8ace6bd311",
   "metadata": {
    "collapsed": false
   },
   "outputs": [],
   "source": [
    "def plot_pair_plots(data, features, pdf_filename):\n",
    "    \"\"\"\n",
    "    Generate pair plots for selected features and save them to a PDF.\n",
    "\n",
    "    Parameters:\n",
    "    - data (DataFrame): The input DataFrame containing the dataset.\n",
    "    - features (list): List of features (columns) in the dataset to plot in pair plots.\n",
    "    - pdf_filename (str): File name for the PDF to save the plots.\n",
    "    \"\"\"\n",
    "    sns.set(style=\"ticks\")\n",
    "    pair_plot_data = data.loc[:, features + ['VisitNumber']]\n",
    "\n",
    "    with PdfPages(pdf_filename) as pdf:\n",
    "        sns.pairplot(pair_plot_data, hue='VisitNumber')\n",
    "        pdf.savefig()\n",
    "        plt.close()\n",
    "        print(f\"PDF saved successfully: {pdf_filename}\")\n",
    "        \n",
    "print('Working with pair plots')\n",
    "plot_pair_plots(data, features, os.path.join(output_dir, \"pair_plots.pdf\"))"
   ]
  },
  {
   "cell_type": "code",
   "execution_count": 12,
   "id": "8afac91478df1ed1",
   "metadata": {
    "ExecuteTime": {
     "end_time": "2024-06-22T13:21:55.439799Z",
     "start_time": "2024-06-22T13:21:55.315526Z"
    },
    "collapsed": false
   },
   "outputs": [
    {
     "name": "stdout",
     "output_type": "stream",
     "text": [
      "Working with pca biplots\n",
      "PDF saved successfully: plots\\pca_biplots.pdf\n"
     ]
    }
   ],
   "source": [
    "def plot_pca_biplots(data, features, pdf_filename):\n",
    "    \"\"\"\n",
    "    Generate PCA biplots for selected features and save them to a PDF.\n",
    "\n",
    "    Parameters:\n",
    "    - data (DataFrame): The input DataFrame containing the dataset.\n",
    "    - features (list): List of features (columns) in the dataset to use for PCA.\n",
    "    - pdf_filename (str): File name for the PDF to save the plots.\n",
    "    \"\"\"\n",
    "    pca = PCA(n_components=2)\n",
    "    pca_data = data[features].dropna()\n",
    "    pca_components = pca.fit_transform(pca_data)\n",
    "\n",
    "    with PdfPages(pdf_filename) as pdf:\n",
    "        plt.figure(figsize=(10, 6))\n",
    "        plt.scatter(pca_components[:, 0], pca_components[:, 1], c=data['VisitNumber'], cmap='viridis')\n",
    "        plt.title('PCA Biplots')\n",
    "        plt.xlabel('Principal Component 1')\n",
    "        plt.ylabel('Principal Component 2')\n",
    "        pdf.savefig()\n",
    "        plt.close()\n",
    "        print(f\"PDF saved successfully: {pdf_filename}\")\n",
    "        \n",
    "print('Working with pca biplots')\n",
    "plot_pca_biplots(data, features, os.path.join(output_dir, \"pca_biplots.pdf\"))"
   ]
  },
  {
   "cell_type": "code",
   "execution_count": 13,
   "id": "729fef6cecdaa1e3",
   "metadata": {
    "ExecuteTime": {
     "end_time": "2024-06-22T13:22:20.133303Z",
     "start_time": "2024-06-22T13:21:55.440872Z"
    },
    "collapsed": false
   },
   "outputs": [
    {
     "name": "stdout",
     "output_type": "stream",
     "text": [
      "Generating time series plots for all features...\n",
      "PDF saved successfully: plots\\time_series_plots.pdf\n"
     ]
    }
   ],
   "source": [
    "def plot_time_series_plots(data, time_col, group_col, pdf_filename):\n",
    "    print(\"Generating time series plots for all features...\")\n",
    "    with PdfPages(pdf_filename) as pdf:\n",
    "        features = [col for col in data.columns if col not in [time_col, group_col, 'Patient ID', 'EVENT_ID']]\n",
    "        for feature in features:\n",
    "            for group in data[group_col].unique():\n",
    "                group_data = data[data[group_col] == group]\n",
    "                plt.figure(figsize=(10, 6))\n",
    "                plt.plot(group_data[time_col], group_data[feature], marker='o', linestyle='-')\n",
    "                plt.title(f'Time Series Plot of {feature} for Visit {group}')\n",
    "                plt.xlabel(time_col)\n",
    "                plt.ylabel(feature)\n",
    "                pdf.savefig()\n",
    "                plt.close()\n",
    "    print(f\"PDF saved successfully: {pdf_filename}\")\n",
    "\n",
    "# Call the function\n",
    "plot_time_series_plots(data, 'Visit Date', 'VisitNumber', os.path.join(output_dir, \"time_series_plots.pdf\"))\n"
   ]
  },
  {
   "cell_type": "code",
   "execution_count": 14,
   "id": "88b03335e06bfda9",
   "metadata": {
    "ExecuteTime": {
     "end_time": "2024-06-22T13:22:43.517494Z",
     "start_time": "2024-06-22T13:22:20.134406Z"
    },
    "collapsed": false
   },
   "outputs": [
    {
     "name": "stdout",
     "output_type": "stream",
     "text": [
      "Generating area plots for all features...\n",
      "PDF saved successfully: plots\\area_plots.pdf\n"
     ]
    }
   ],
   "source": [
    "def plot_area_plots(data, time_col, group_col, pdf_filename):\n",
    "    print(\"Generating area plots for all features...\")\n",
    "    with PdfPages(pdf_filename) as pdf:\n",
    "        features = [col for col in data.columns if col not in [time_col, group_col, 'Patient ID', 'EVENT_ID']]\n",
    "        for feature in features:\n",
    "            for group in data[group_col].unique():\n",
    "                group_data = data[data[group_col] == group]\n",
    "                plt.figure(figsize=(10, 6))\n",
    "                plt.fill_between(group_data[time_col], group_data[feature], alpha=0.5)\n",
    "                plt.plot(group_data[time_col], group_data[feature], marker='', linestyle='-')\n",
    "                plt.title(f'Area Plot of {feature} for Visit {group}')\n",
    "                plt.xlabel(time_col)\n",
    "                plt.ylabel(feature)\n",
    "                pdf.savefig()\n",
    "                plt.close()\n",
    "    print(f\"PDF saved successfully: {pdf_filename}\")\n",
    "\n",
    "# Call the function\n",
    "plot_area_plots(data, 'Visit Date', 'VisitNumber', os.path.join(output_dir, \"area_plots.pdf\"))\n"
   ]
  },
  {
   "cell_type": "code",
   "execution_count": 15,
   "id": "f01082d262df4cad",
   "metadata": {
    "ExecuteTime": {
     "end_time": "2024-06-22T13:22:53.849100Z",
     "start_time": "2024-06-22T13:22:43.518503Z"
    },
    "collapsed": false
   },
   "outputs": [
    {
     "name": "stdout",
     "output_type": "stream",
     "text": [
      "Generating ridgeline plots for all features...\n",
      "PDF saved successfully: plots\\ridgeline_plots.pdf\n"
     ]
    }
   ],
   "source": [
    "def plot_ridgeline_plots(data, time_col, group_col, pdf_filename):\n",
    "    print(\"Generating ridgeline plots for all features...\")\n",
    "    with PdfPages(pdf_filename) as pdf:\n",
    "        features = [col for col in data.columns if col not in [time_col, group_col, 'Patient ID', 'EVENT_ID']]\n",
    "        for feature in features:\n",
    "            plt.figure(figsize=(10, 6))\n",
    "            sns.kdeplot(data=data, x=time_col, hue=group_col, fill=True)\n",
    "            plt.title(f'Ridgeline Plot of {feature} Over {time_col} by {group_col}')\n",
    "            plt.xlabel(time_col)\n",
    "            plt.ylabel(feature)\n",
    "            pdf.savefig()\n",
    "            plt.close()\n",
    "    print(f\"PDF saved successfully: {pdf_filename}\")\n",
    "\n",
    "# Call the function\n",
    "plot_ridgeline_plots(data, 'Visit Date', 'VisitNumber', os.path.join(output_dir, \"ridgeline_plots.pdf\"))\n"
   ]
  },
  {
   "cell_type": "code",
   "execution_count": null,
   "id": "f5d0d29fdb76b4c6",
   "metadata": {
    "collapsed": false,
    "is_executing": true
   },
   "outputs": [],
   "source": [
    "\n",
    "def plot_kaplan_meier_plots(data, event_col, time_col, group_col, pdf_filename):\n",
    "    \"\"\"\n",
    "    Generate Kaplan-Meier plots for survival analysis and save them to a PDF.\n",
    "\n",
    "    Parameters:\n",
    "    - data (DataFrame): The input DataFrame containing the survival data.\n",
    "    - event_col (str): Column name indicating the event/censorship status.\n",
    "    - time_col (str): Column name indicating the survival time.\n",
    "    - group_col (str): Column name indicating the group/category.\n",
    "    - pdf_filename (str): File name for the PDF to save the plots.\n",
    "    \"\"\"\n",
    "    from lifelines import KaplanMeierFitter\n",
    "    from matplotlib.backends.backend_pdf import PdfPages\n",
    "    \n",
    "    kmf = KaplanMeierFitter()\n",
    "\n",
    "    with PdfPages(pdf_filename) as pdf:\n",
    "        plt.figure(figsize=(10, 6))\n",
    "        for group in data[group_col].unique():\n",
    "            group_data = data[data[group_col] == group]\n",
    "            kmf.fit(group_data[time_col], event_observed=group_data[event_col], label=group)\n",
    "            kmf.plot()\n",
    "        plt.title('Kaplan-Meier Survival Curves')\n",
    "        plt.xlabel('Time')\n",
    "        plt.ylabel('Survival Probability')\n",
    "        pdf.savefig()\n",
    "        plt.close()\n",
    "        print(f\"PDF saved successfully: {pdf_filename}\")\n",
    "\n",
    "# Ensure you pass the correct column names when calling the function\n",
    "plot_kaplan_meier_plots(data, 'EVENT_ID', 'Time', 'Group', \"kaplan_meier_plots.pdf\")"
   ]
  }
 ],
 "metadata": {
  "kernelspec": {
   "display_name": "Python 3 (ipykernel)",
   "language": "python",
   "name": "python3"
  },
  "language_info": {
   "codemirror_mode": {
    "name": "ipython",
    "version": 3
   },
   "file_extension": ".py",
   "mimetype": "text/x-python",
   "name": "python",
   "nbconvert_exporter": "python",
   "pygments_lexer": "ipython3",
   "version": "3.12.2"
  }
 },
 "nbformat": 4,
 "nbformat_minor": 5
}
